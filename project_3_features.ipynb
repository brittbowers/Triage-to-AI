{
 "cells": [
  {
   "cell_type": "markdown",
   "metadata": {},
   "source": [
    "# Features: Predicting Hospital Admission Using ER Triage Data"
   ]
  },
  {
   "cell_type": "markdown",
   "metadata": {},
   "source": [
    "## Imports"
   ]
  },
  {
   "cell_type": "code",
   "execution_count": 2,
   "metadata": {},
   "outputs": [],
   "source": [
    "import pandas as pd\n",
    "import numpy as np\n",
    "import matplotlib.pyplot as plt\n",
    "import seaborn as sns\n",
    "import pickle\n",
    "from sklearn import datasets\n",
    "from sklearn.neighbors import KNeighborsClassifier\n",
    "from sklearn.linear_model import LogisticRegression\n",
    "from sklearn.model_selection import train_test_split\n",
    "from sklearn.metrics import precision_score, recall_score, precision_recall_curve,f1_score, fbeta_score\n",
    "from sklearn.metrics import confusion_matrix\n",
    "from sklearn.preprocessing import StandardScaler"
   ]
  },
  {
   "cell_type": "markdown",
   "metadata": {},
   "source": [
    "**Data Before Feature Selection**"
   ]
  },
  {
   "cell_type": "code",
   "execution_count": 3,
   "metadata": {},
   "outputs": [],
   "source": [
    "with open('data/df_clean_few_nulls.pickle', 'rb') as read_file:\n",
    "    df_clean = pickle.load(read_file)"
   ]
  },
  {
   "cell_type": "markdown",
   "metadata": {},
   "source": [
    "**Data After Feature Selection**"
   ]
  },
  {
   "cell_type": "code",
   "execution_count": null,
   "metadata": {},
   "outputs": [],
   "source": [
    "with open('data/df_clean_fe.pickle', 'rb') as read_file:\n",
    "    df_clean = pickle.load(read_file)"
   ]
  },
  {
   "cell_type": "markdown",
   "metadata": {},
   "source": [
    "## Feature Engineering"
   ]
  },
  {
   "cell_type": "code",
   "execution_count": 132,
   "metadata": {},
   "outputs": [],
   "source": [
    "# Functions\n",
    "def normTest(feature):\n",
    "    print('Shapiro: {}'.format(shapiro(df_clean[feature])))\n",
    "    print('Anderson: {}'.format(anderson(df_clean[feature])))\n",
    "    print('Shapiro Log: {}'.format(shapiro(np.log(df_clean[feature]))))\n",
    "    print('Shapiro Box: {}'.format(shapiro(power_transform(np.array(df_clean[feature]).reshape(-1,1), method= 'box-cox'))))\n",
    "    sns.distplot(df_clean[feature])\n",
    "    sns.distplot(power_transform(np.array(df_clean[feature]).reshape(-1,1), method= 'box-cox'))"
   ]
  },
  {
   "cell_type": "markdown",
   "metadata": {},
   "source": [
    "**Feature Transformation**\n",
    "\n",
    "Continuous features to check for normality:\n",
    "\n",
    "1. Age: not normal, bin data, discrete\n",
    "2. Patient_num_hr: \n",
    "3. SBP/DBP\n",
    "4. HR\n",
    "5. RR\n",
    "6. BT\n",
    "7. Stay_min\n",
    "\n",
    "Unbalanced Features:\n",
    "1. Injury\n",
    "2. Admissions\n",
    "3. Mental\n",
    "4. Pain Scale\n",
    "5. KTAS"
   ]
  },
  {
   "cell_type": "code",
   "execution_count": 17,
   "metadata": {},
   "outputs": [],
   "source": [
    "from scipy.stats import beta\n",
    "from scipy.stats import shapiro, anderson\n",
    "import statsmodels.api as sm\n",
    "from sklearn.preprocessing import power_transform"
   ]
  },
  {
   "cell_type": "markdown",
   "metadata": {},
   "source": [
    "**Feature Transformation - Age**"
   ]
  },
  {
   "cell_type": "markdown",
   "metadata": {},
   "source": [
    "Shapiro Test for normality: Shapiro-Wilks null hypothesis that sample came from normally distributed population\n",
    "\n",
    "Analysis of Effect Size: QQ Plot\n",
    "\n",
    "Anderson-Darhling = tests whether a sample comes from a specified cdf (cummulative distribution function)"
   ]
  },
  {
   "cell_type": "code",
   "execution_count": 13,
   "metadata": {},
   "outputs": [
    {
     "name": "stdout",
     "output_type": "stream",
     "text": [
      "(0.9609060883522034, 6.057691366319281e-18)\n",
      "AndersonResult(statistic=14.202624326568184, critical_values=array([0.574, 0.654, 0.785, 0.915, 1.089]), significance_level=array([15. , 10. ,  5. ,  2.5,  1. ]))\n"
     ]
    }
   ],
   "source": [
    "print(shapiro(df_clean['age']))\n",
    "print(anderson(df_clean['age']))\n",
    "# With this p-value I have to reject the null hypothesis that this distribution is normal (p < 0.05)"
   ]
  },
  {
   "cell_type": "code",
   "execution_count": 15,
   "metadata": {},
   "outputs": [],
   "source": [
    "log_age = np.log(df_clean['age'])"
   ]
  },
  {
   "cell_type": "code",
   "execution_count": 16,
   "metadata": {},
   "outputs": [
    {
     "data": {
      "text/plain": [
       "<matplotlib.axes._subplots.AxesSubplot at 0x1c1790fda0>"
      ]
     },
     "execution_count": 16,
     "metadata": {},
     "output_type": "execute_result"
    },
    {
     "data": {
      "image/png": "[encoded data removed]",
      "text/plain": [
       "<Figure size 432x288 with 1 Axes>"
      ]
     },
     "metadata": {
      "needs_background": "light"
     },
     "output_type": "display_data"
    }
   ],
   "source": [
    "sns.distplot(log_age)"
   ]
  },
  {
   "cell_type": "code",
   "execution_count": 20,
   "metadata": {},
   "outputs": [],
   "source": [
    "box_age = power_transform(np.array(df_clean['age']).reshape(-1,1), method= 'box-cox')"
   ]
  },
  {
   "cell_type": "code",
   "execution_count": 21,
   "metadata": {},
   "outputs": [
    {
     "data": {
      "text/plain": [
       "<matplotlib.axes._subplots.AxesSubplot at 0x1c18b7d860>"
      ]
     },
     "execution_count": 21,
     "metadata": {},
     "output_type": "execute_result"
    },
    {
     "data": {
      "image/png": "[encoded data removed]",
      "text/plain": [
       "<Figure size 432x288 with 1 Axes>"
      ]
     },
     "metadata": {
      "needs_background": "light"
     },
     "output_type": "display_data"
    }
   ],
   "source": [
    "sns.distplot(box_age)"
   ]
  },
  {
   "cell_type": "code",
   "execution_count": 24,
   "metadata": {},
   "outputs": [
    {
     "name": "stdout",
     "output_type": "stream",
     "text": [
      "(0.9616021513938904, 8.931332117169832e-18)\n",
      "AndersonResult(statistic=array([-1264.99400841, -1260.98202524, -1256.97004206, ...,\n",
      "        3806.15272516,  3810.16470834,  3814.17669151]), critical_values=array([0.574, 0.654, 0.785, 0.915, 1.089]), significance_level=array([15. , 10. ,  5. ,  2.5,  1. ]))\n"
     ]
    }
   ],
   "source": [
    "print(shapiro(box_age))\n",
    "print(anderson(box_age))\n",
    "# Still not normal... age is discrete so I'm going to bin it"
   ]
  },
  {
   "cell_type": "code",
   "execution_count": 32,
   "metadata": {},
   "outputs": [
    {
     "name": "stdout",
     "output_type": "stream",
     "text": [
      "[16, 17, 18, 19, 20, 21, 22, 23, 24, 25, 26, 27, 28, 29, 30, 31, 32, 33, 34, 35, 36, 37, 38, 39, 40, 41, 42, 43, 44, 45, 46, 47, 48, 49, 50, 51, 52, 53, 54, 55, 56, 57, 58, 59, 60, 61, 62, 63, 64, 65, 66, 67, 68, 69, 70, 71, 72, 73, 74, 75, 76, 77, 78, 79, 80, 81, 82, 83, 84, 85, 86, 87, 88, 89, 90, 91, 92, 93, 94, 95, 96]\n"
     ]
    }
   ],
   "source": [
    "print(sorted(df_clean['age'].unique()))"
   ]
  },
  {
   "cell_type": "code",
   "execution_count": 4,
   "metadata": {},
   "outputs": [
    {
     "data": {
      "text/plain": [
       "0         (69.333, 96.0]\n",
       "1       (42.667, 69.333]\n",
       "2       (42.667, 69.333]\n",
       "3         (69.333, 96.0]\n",
       "4       (42.667, 69.333]\n",
       "              ...       \n",
       "1262      (69.333, 96.0]\n",
       "1263      (69.333, 96.0]\n",
       "1264      (69.333, 96.0]\n",
       "1265      (69.333, 96.0]\n",
       "1266      (69.333, 96.0]\n",
       "Name: age, Length: 1267, dtype: category\n",
       "Categories (3, interval[float64]): [(15.92, 42.667] < (42.667, 69.333] < (69.333, 96.0]]"
      ]
     },
     "execution_count": 4,
     "metadata": {},
     "output_type": "execute_result"
    }
   ],
   "source": [
    "pd.cut(df_clean['age'], 3)"
   ]
  },
  {
   "cell_type": "code",
   "execution_count": 176,
   "metadata": {},
   "outputs": [],
   "source": [
    "df_clean['age_bins'] = pd.cut(df_clean['age'], 3, labels = ['young', 'middle_age', 'old'])"
   ]
  },
  {
   "cell_type": "code",
   "execution_count": 177,
   "metadata": {},
   "outputs": [
    {
     "data": {
      "text/plain": [
       "<matplotlib.axes._subplots.AxesSubplot at 0x1c1b894f28>"
      ]
     },
     "execution_count": 177,
     "metadata": {},
     "output_type": "execute_result"
    },
    {
     "data": {
      "image/png": "[encoded data removed]",
      "text/plain": [
       "<Figure size 432x288 with 1 Axes>"
      ]
     },
     "metadata": {
      "needs_background": "light"
     },
     "output_type": "display_data"
    }
   ],
   "source": [
    "sns.countplot(df_clean['age_bins'])"
   ]
  },
  {
   "cell_type": "markdown",
   "metadata": {},
   "source": [
    "**Patient Num/ Hr**"
   ]
  },
  {
   "cell_type": "code",
   "execution_count": 41,
   "metadata": {},
   "outputs": [
    {
     "data": {
      "text/plain": [
       "<matplotlib.axes._subplots.AxesSubplot at 0x1c18eaa5f8>"
      ]
     },
     "execution_count": 41,
     "metadata": {},
     "output_type": "execute_result"
    },
    {
     "data": {
      "image/png": "[encoded data removed]",
      "text/plain": [
       "<Figure size 432x288 with 1 Axes>"
      ]
     },
     "metadata": {
      "needs_background": "light"
     },
     "output_type": "display_data"
    }
   ],
   "source": [
    "sns.distplot(df_clean['patient_num_hr'])"
   ]
  },
  {
   "cell_type": "code",
   "execution_count": 44,
   "metadata": {},
   "outputs": [
    {
     "name": "stdout",
     "output_type": "stream",
     "text": [
      "(0.9794992208480835, 1.9877547958319086e-12)\n",
      "AndersonResult(statistic=8.229703368223, critical_values=array([0.574, 0.654, 0.785, 0.915, 1.089]), significance_level=array([15. , 10. ,  5. ,  2.5,  1. ]))\n"
     ]
    }
   ],
   "source": [
    "print(shapiro(df_clean['patient_num_hr']))\n",
    "print(anderson(df_clean['patient_num_hr']))\n",
    "# Not normal...this may also be discrete"
   ]
  },
  {
   "cell_type": "markdown",
   "metadata": {},
   "source": [
    "Binning"
   ]
  },
  {
   "cell_type": "code",
   "execution_count": 174,
   "metadata": {},
   "outputs": [],
   "source": [
    "df_clean['patient_freq_bins'] = pd.cut(df_clean['patient_num_hr'], 2, labels = ['low_freq', 'high_freq'])"
   ]
  },
  {
   "cell_type": "code",
   "execution_count": 175,
   "metadata": {},
   "outputs": [
    {
     "data": {
      "text/plain": [
       "<matplotlib.axes._subplots.AxesSubplot at 0x1c1c7ec198>"
      ]
     },
     "execution_count": 175,
     "metadata": {},
     "output_type": "execute_result"
    },
    {
     "data": {
      "image/png": "[encoded data removed]",
      "text/plain": [
       "<Figure size 432x288 with 1 Axes>"
      ]
     },
     "metadata": {
      "needs_background": "light"
     },
     "output_type": "display_data"
    }
   ],
   "source": [
    "sns.countplot(df_clean['patient_freq_bins'])"
   ]
  },
  {
   "cell_type": "markdown",
   "metadata": {},
   "source": [
    "**SBP/DBP**"
   ]
  },
  {
   "cell_type": "markdown",
   "metadata": {},
   "source": [
    "Thought of adding just one feature to simplify (Pulse pressure), but after some reading I think both SBP and DBP could contribute seperately depending on the condition, so I may actually not use PP and just include SBP/DBP"
   ]
  },
  {
   "cell_type": "code",
   "execution_count": 51,
   "metadata": {},
   "outputs": [],
   "source": [
    "df_clean['PP'] = df_clean['SBP']/df_clean['DBP']"
   ]
  },
  {
   "cell_type": "code",
   "execution_count": 52,
   "metadata": {},
   "outputs": [
    {
     "data": {
      "text/plain": [
       "<matplotlib.axes._subplots.AxesSubplot at 0x1c1a5d5be0>"
      ]
     },
     "execution_count": 52,
     "metadata": {},
     "output_type": "execute_result"
    },
    {
     "data": {
      "image/png": "[encoded data removed]",
      "text/plain": [
       "<Figure size 432x288 with 1 Axes>"
      ]
     },
     "metadata": {
      "needs_background": "light"
     },
     "output_type": "display_data"
    }
   ],
   "source": [
    "sns.distplot(df_clean['PP'])"
   ]
  },
  {
   "cell_type": "code",
   "execution_count": 56,
   "metadata": {},
   "outputs": [
    {
     "data": {
      "text/plain": [
       "<matplotlib.axes._subplots.AxesSubplot at 0x1c1aa89710>"
      ]
     },
     "execution_count": 56,
     "metadata": {},
     "output_type": "execute_result"
    },
    {
     "data": {
      "image/png": "[encoded data removed]",
      "text/plain": [
       "<Figure size 432x288 with 1 Axes>"
      ]
     },
     "metadata": {
      "needs_background": "light"
     },
     "output_type": "display_data"
    }
   ],
   "source": [
    "sns.distplot(df_clean['SBP'])"
   ]
  },
  {
   "cell_type": "code",
   "execution_count": 58,
   "metadata": {},
   "outputs": [
    {
     "name": "stdout",
     "output_type": "stream",
     "text": [
      "(0.9708645939826965, 2.709459557282139e-15)\n",
      "AndersonResult(statistic=10.203951783680623, critical_values=array([0.574, 0.654, 0.785, 0.915, 1.089]), significance_level=array([15. , 10. ,  5. ,  2.5,  1. ]))\n"
     ]
    }
   ],
   "source": [
    "print(shapiro(df_clean['SBP']))\n",
    "print(anderson(df_clean['SBP']))\n",
    "# Not normal...transform"
   ]
  },
  {
   "cell_type": "code",
   "execution_count": 61,
   "metadata": {},
   "outputs": [
    {
     "data": {
      "text/plain": [
       "(0.9850819706916809, 4.040892065404478e-10)"
      ]
     },
     "execution_count": 61,
     "metadata": {},
     "output_type": "execute_result"
    }
   ],
   "source": [
    "shapiro(np.log(df_clean['SBP']))\n",
    "#Closer...kind of"
   ]
  },
  {
   "cell_type": "code",
   "execution_count": 62,
   "metadata": {},
   "outputs": [],
   "source": [
    "box_sbp = power_transform(np.array(df_clean['SBP']).reshape(-1,1), method= 'box-cox')"
   ]
  },
  {
   "cell_type": "code",
   "execution_count": 64,
   "metadata": {},
   "outputs": [
    {
     "data": {
      "text/plain": [
       "(0.9869934320449829, 3.3055651549318554e-09)"
      ]
     },
     "execution_count": 64,
     "metadata": {},
     "output_type": "execute_result"
    }
   ],
   "source": [
    "shapiro(box_sbp)\n",
    "#Still not normal...bin this ish"
   ]
  },
  {
   "cell_type": "code",
   "execution_count": 79,
   "metadata": {},
   "outputs": [
    {
     "data": {
      "text/plain": [
       "0       160.0\n",
       "1       137.0\n",
       "2       130.0\n",
       "3       139.0\n",
       "4        91.0\n",
       "        ...  \n",
       "1262    120.0\n",
       "1263    120.0\n",
       "1264    130.0\n",
       "1265    170.0\n",
       "1266    150.0\n",
       "Name: SBP, Length: 1267, dtype: float64"
      ]
     },
     "execution_count": 79,
     "metadata": {},
     "output_type": "execute_result"
    }
   ],
   "source": [
    "df_clean['SBP']"
   ]
  },
  {
   "cell_type": "code",
   "execution_count": 178,
   "metadata": {},
   "outputs": [],
   "source": [
    "df_clean['SBP_bins'] = pd.cut(df_clean['SBP'], bins = [0,90, 130, 300], labels = ['low_sbp', 'norm_sbp', 'high_sbp'])"
   ]
  },
  {
   "cell_type": "code",
   "execution_count": 179,
   "metadata": {},
   "outputs": [
    {
     "data": {
      "text/plain": [
       "<matplotlib.axes._subplots.AxesSubplot at 0x1c1c29d320>"
      ]
     },
     "execution_count": 179,
     "metadata": {},
     "output_type": "execute_result"
    },
    {
     "data": {
      "image/png": "[encoded data removed]",
      "text/plain": [
       "<Figure size 432x288 with 1 Axes>"
      ]
     },
     "metadata": {
      "needs_background": "light"
     },
     "output_type": "display_data"
    }
   ],
   "source": [
    "sns.countplot(df_clean['SBP_bins'])"
   ]
  },
  {
   "cell_type": "markdown",
   "metadata": {},
   "source": [
    "**DBP**"
   ]
  },
  {
   "cell_type": "code",
   "execution_count": 180,
   "metadata": {},
   "outputs": [],
   "source": [
    "df_clean['DBP_bins'] = pd.cut(df_clean['DBP'], bins = [0,60,80,200], labels = ['low_dbp', 'norm_dpb', 'high_dbp'])"
   ]
  },
  {
   "cell_type": "code",
   "execution_count": 181,
   "metadata": {},
   "outputs": [
    {
     "data": {
      "text/plain": [
       "<matplotlib.axes._subplots.AxesSubplot at 0x1c1af84e80>"
      ]
     },
     "execution_count": 181,
     "metadata": {},
     "output_type": "execute_result"
    },
    {
     "data": {
      "image/png": "[encoded data removed]",
      "text/plain": [
       "<Figure size 432x288 with 1 Axes>"
      ]
     },
     "metadata": {
      "needs_background": "light"
     },
     "output_type": "display_data"
    }
   ],
   "source": [
    "sns.countplot(df_clean['DBP_bins'])"
   ]
  },
  {
   "cell_type": "markdown",
   "metadata": {},
   "source": [
    "**HR**"
   ]
  },
  {
   "cell_type": "code",
   "execution_count": 100,
   "metadata": {},
   "outputs": [
    {
     "name": "stdout",
     "output_type": "stream",
     "text": [
      "Shapiro: (0.9885898232460022, 2.2107331076881565e-08)\n",
      "Anderson: AndersonResult(statistic=4.469312278121379, critical_values=array([0.574, 0.654, 0.785, 0.915, 1.089]), significance_level=array([15. , 10. ,  5. ,  2.5,  1. ]))\n",
      "Shapiro Log: (0.9892656803131104, 5.174464590140815e-08)\n",
      "Shapiro Box: (0.9949921369552612, 0.0003196276957169175)\n"
     ]
    },
    {
     "data": {
      "image/png": "[encoded data removed]",
      "text/plain": [
       "<Figure size 432x288 with 1 Axes>"
      ]
     },
     "metadata": {
      "needs_background": "light"
     },
     "output_type": "display_data"
    }
   ],
   "source": [
    "normTest('HR')"
   ]
  },
  {
   "cell_type": "code",
   "execution_count": 5,
   "metadata": {},
   "outputs": [
    {
     "data": {
      "text/plain": [
       "0       (70.667, 109.333]\n",
       "1        (31.884, 70.667]\n",
       "2       (70.667, 109.333]\n",
       "3       (70.667, 109.333]\n",
       "4       (70.667, 109.333]\n",
       "              ...        \n",
       "1262    (70.667, 109.333]\n",
       "1263    (70.667, 109.333]\n",
       "1264    (70.667, 109.333]\n",
       "1265    (70.667, 109.333]\n",
       "1266     (31.884, 70.667]\n",
       "Name: HR, Length: 1267, dtype: category\n",
       "Categories (3, interval[float64]): [(31.884, 70.667] < (70.667, 109.333] < (109.333, 148.0]]"
      ]
     },
     "execution_count": 5,
     "metadata": {},
     "output_type": "execute_result"
    }
   ],
   "source": [
    "pd.cut(df_clean['HR'], 3)"
   ]
  },
  {
   "cell_type": "code",
   "execution_count": 182,
   "metadata": {},
   "outputs": [],
   "source": [
    "df_clean['HR_bins'] = pd.cut(df_clean['HR'], 3, labels = ['low_hr', 'norm_hr', 'high_hr'])"
   ]
  },
  {
   "cell_type": "code",
   "execution_count": 183,
   "metadata": {},
   "outputs": [
    {
     "data": {
      "text/plain": [
       "<matplotlib.axes._subplots.AxesSubplot at 0x1c1bb74da0>"
      ]
     },
     "execution_count": 183,
     "metadata": {},
     "output_type": "execute_result"
    },
    {
     "data": {
      "image/png": "[encoded data removed]",
      "text/plain": [
       "<Figure size 432x288 with 1 Axes>"
      ]
     },
     "metadata": {
      "needs_background": "light"
     },
     "output_type": "display_data"
    }
   ],
   "source": [
    "sns.countplot(df_clean['HR_bins'])"
   ]
  },
  {
   "cell_type": "markdown",
   "metadata": {},
   "source": [
    "**RR**"
   ]
  },
  {
   "cell_type": "code",
   "execution_count": 109,
   "metadata": {},
   "outputs": [
    {
     "name": "stdout",
     "output_type": "stream",
     "text": [
      "Shapiro: (0.7540397047996521, 8.521436091405645e-40)\n",
      "Anderson: AndersonResult(statistic=135.71132200215607, critical_values=array([0.574, 0.654, 0.785, 0.915, 1.089]), significance_level=array([15. , 10. ,  5. ,  2.5,  1. ]))\n",
      "Shapiro Log: (0.7731597423553467, 1.2124597635320976e-38)\n",
      "Shapiro Box: (0.7746453285217285, 1.5015137252994707e-38)\n"
     ]
    },
    {
     "data": {
      "image/png": "[encoded data removed]",
      "text/plain": [
       "<Figure size 432x288 with 1 Axes>"
      ]
     },
     "metadata": {
      "needs_background": "light"
     },
     "output_type": "display_data"
    }
   ],
   "source": [
    "normTest('RR')\n",
    "#Very Discrete"
   ]
  },
  {
   "cell_type": "code",
   "execution_count": 6,
   "metadata": {},
   "outputs": [
    {
     "data": {
      "text/plain": [
       "0       (13.984, 22.0]\n",
       "1       (13.984, 22.0]\n",
       "2       (13.984, 22.0]\n",
       "3       (13.984, 22.0]\n",
       "4       (13.984, 22.0]\n",
       "             ...      \n",
       "1262    (13.984, 22.0]\n",
       "1263    (13.984, 22.0]\n",
       "1264    (13.984, 22.0]\n",
       "1265    (13.984, 22.0]\n",
       "1266    (13.984, 22.0]\n",
       "Name: RR, Length: 1267, dtype: category\n",
       "Categories (2, interval[float64]): [(13.984, 22.0] < (22.0, 30.0]]"
      ]
     },
     "execution_count": 6,
     "metadata": {},
     "output_type": "execute_result"
    }
   ],
   "source": [
    "pd.cut(df_clean['RR'], 2)"
   ]
  },
  {
   "cell_type": "code",
   "execution_count": 184,
   "metadata": {},
   "outputs": [],
   "source": [
    "df_clean['RR_bins'] = pd.cut(df_clean['RR'], 2, labels = ['norm_rr', 'high_rr'])"
   ]
  },
  {
   "cell_type": "code",
   "execution_count": 185,
   "metadata": {},
   "outputs": [
    {
     "data": {
      "text/plain": [
       "<matplotlib.axes._subplots.AxesSubplot at 0x1c1af43438>"
      ]
     },
     "execution_count": 185,
     "metadata": {},
     "output_type": "execute_result"
    },
    {
     "data": {
      "image/png": "[encoded data removed]",
      "text/plain": [
       "<Figure size 432x288 with 1 Axes>"
      ]
     },
     "metadata": {
      "needs_background": "light"
     },
     "output_type": "display_data"
    }
   ],
   "source": [
    "sns.countplot(df_clean['RR_bins'])"
   ]
  },
  {
   "cell_type": "markdown",
   "metadata": {},
   "source": [
    "**BT**"
   ]
  },
  {
   "cell_type": "code",
   "execution_count": 116,
   "metadata": {},
   "outputs": [
    {
     "name": "stdout",
     "output_type": "stream",
     "text": [
      "Shapiro: (0.84376060962677, 1.4743049229658168e-33)\n",
      "Anderson: AndersonResult(statistic=38.803414670637494, critical_values=array([0.574, 0.654, 0.785, 0.915, 1.089]), significance_level=array([15. , 10. ,  5. ,  2.5,  1. ]))\n",
      "Shapiro Log: (0.8543819189071655, 1.2207557322431427e-32)\n",
      "Shapiro Box: (1.0, 1.0)\n"
     ]
    },
    {
     "name": "stderr",
     "output_type": "stream",
     "text": [
      "/Users/brittb28/anaconda3/envs/metis/lib/python3.6/site-packages/scipy/stats/morestats.py:1657: UserWarning: Input data for shapiro has range zero. The results may not be accurate.\n",
      "  warnings.warn(\"Input data for shapiro has range zero. The results \"\n"
     ]
    },
    {
     "data": {
      "image/png": "[encoded data removed]",
      "text/plain": [
       "<Figure size 432x288 with 1 Axes>"
      ]
     },
     "metadata": {
      "needs_background": "light"
     },
     "output_type": "display_data"
    }
   ],
   "source": [
    "normTest('BT')"
   ]
  },
  {
   "cell_type": "code",
   "execution_count": 186,
   "metadata": {},
   "outputs": [],
   "source": [
    "df_clean['BT_bins'] = pd.cut(df_clean['BT'], bins = [35,37.5,50], labels = ['norm_bt', 'high_bt'])"
   ]
  },
  {
   "cell_type": "code",
   "execution_count": 187,
   "metadata": {},
   "outputs": [
    {
     "data": {
      "text/plain": [
       "<matplotlib.axes._subplots.AxesSubplot at 0x1c1bb969b0>"
      ]
     },
     "execution_count": 187,
     "metadata": {},
     "output_type": "execute_result"
    },
    {
     "data": {
      "image/png": "[encoded data removed]",
      "text/plain": [
       "<Figure size 432x288 with 1 Axes>"
      ]
     },
     "metadata": {
      "needs_background": "light"
     },
     "output_type": "display_data"
    }
   ],
   "source": [
    "sns.countplot(df_clean['BT_bins'])"
   ]
  },
  {
   "cell_type": "markdown",
   "metadata": {},
   "source": [
    "**stay_min**"
   ]
  },
  {
   "cell_type": "code",
   "execution_count": 125,
   "metadata": {},
   "outputs": [
    {
     "data": {
      "text/plain": [
       "<matplotlib.axes._subplots.AxesSubplot at 0x1c1b846dd8>"
      ]
     },
     "execution_count": 125,
     "metadata": {},
     "output_type": "execute_result"
    },
    {
     "data": {
      "image/png": "[encoded data removed]",
      "text/plain": [
       "<Figure size 432x288 with 1 Axes>"
      ]
     },
     "metadata": {
      "needs_background": "light"
     },
     "output_type": "display_data"
    }
   ],
   "source": [
    "sns.distplot(df_clean['stay_min'])"
   ]
  },
  {
   "cell_type": "code",
   "execution_count": 130,
   "metadata": {},
   "outputs": [],
   "source": [
    "df_clean.loc[df_clean['stay_min'] == 0, 'stay_min'] = 0.0000001"
   ]
  },
  {
   "cell_type": "code",
   "execution_count": 133,
   "metadata": {},
   "outputs": [
    {
     "name": "stdout",
     "output_type": "stream",
     "text": [
      "Shapiro: (0.10665255784988403, 0.0)\n",
      "Anderson: AndersonResult(statistic=452.755884906456, critical_values=array([0.574, 0.654, 0.785, 0.915, 1.089]), significance_level=array([15. , 10. ,  5. ,  2.5,  1. ]))\n",
      "Shapiro Log: (0.5791832804679871, 0.0)\n",
      "Shapiro Box: (0.7987540364265442, 5.717879329359887e-37)\n"
     ]
    },
    {
     "data": {
      "image/png": "[encoded data removed]",
      "text/plain": [
       "<Figure size 432x288 with 1 Axes>"
      ]
     },
     "metadata": {
      "needs_background": "light"
     },
     "output_type": "display_data"
    }
   ],
   "source": [
    "normTest('stay_min')"
   ]
  },
  {
   "cell_type": "code",
   "execution_count": 137,
   "metadata": {},
   "outputs": [],
   "source": [
    "df_clean['stay_bins'] = pd.cut(df_clean['stay_min'], bins = [0,120, 340, 480, 1440, 100000000000], \n",
    "                         labels = ['0-2hr', '2-4hr', '4-8hr', '8-24hr', '24hr+'])"
   ]
  },
  {
   "cell_type": "code",
   "execution_count": 138,
   "metadata": {},
   "outputs": [
    {
     "data": {
      "text/plain": [
       "<matplotlib.axes._subplots.AxesSubplot at 0x1c1c4fe518>"
      ]
     },
     "execution_count": 138,
     "metadata": {},
     "output_type": "execute_result"
    },
    {
     "data": {
      "image/png": "[encoded data removed]",
      "text/plain": [
       "<Figure size 432x288 with 1 Axes>"
      ]
     },
     "metadata": {
      "needs_background": "light"
     },
     "output_type": "display_data"
    }
   ],
   "source": [
    "sns.countplot(df_clean['stay_bins'])"
   ]
  },
  {
   "cell_type": "markdown",
   "metadata": {},
   "source": [
    "**Pain Scale**"
   ]
  },
  {
   "cell_type": "code",
   "execution_count": 188,
   "metadata": {},
   "outputs": [],
   "source": [
    "df_clean['pain_bins'] = pd.cut(df_clean['pain_scale'],3, labels = ['low_pain', 'med_pain', 'high_pain'])"
   ]
  },
  {
   "cell_type": "code",
   "execution_count": 189,
   "metadata": {},
   "outputs": [
    {
     "data": {
      "text/plain": [
       "<matplotlib.axes._subplots.AxesSubplot at 0x1c1bab0550>"
      ]
     },
     "execution_count": 189,
     "metadata": {},
     "output_type": "execute_result"
    },
    {
     "data": {
      "image/png": "[encoded data removed]",
      "text/plain": [
       "<Figure size 432x288 with 1 Axes>"
      ]
     },
     "metadata": {
      "needs_background": "light"
     },
     "output_type": "display_data"
    }
   ],
   "source": [
    "sns.countplot(df_clean['pain_bins'])"
   ]
  },
  {
   "cell_type": "code",
   "execution_count": 151,
   "metadata": {},
   "outputs": [],
   "source": [
    "df_clean['mental_bins'] = pd.cut(df_clean['mental'], bins = [0,1.1,4], labels = ['alert', 'not_alert'])"
   ]
  },
  {
   "cell_type": "code",
   "execution_count": 152,
   "metadata": {},
   "outputs": [
    {
     "data": {
      "text/plain": [
       "<matplotlib.axes._subplots.AxesSubplot at 0x1c1c749ef0>"
      ]
     },
     "execution_count": 152,
     "metadata": {},
     "output_type": "execute_result"
    },
    {
     "data": {
      "image/png": "[encoded data removed]",
      "text/plain": [
       "<Figure size 432x288 with 1 Axes>"
      ]
     },
     "metadata": {
      "needs_background": "light"
     },
     "output_type": "display_data"
    }
   ],
   "source": [
    "sns.countplot(df_clean['mental_bins'])"
   ]
  },
  {
   "cell_type": "markdown",
   "metadata": {},
   "source": [
    "**Feature Selection** - Decide which features to use\n",
    "\n",
    "    1. Both hospitals, sex, age_bins, patient_freq_bins, arrival_mode (dummies), injury, mental_bins, pain_bins, KTAS expert, SBP_bins, DBP_bins, HR_bins, RR_bins, BT_bins, stay_bins\n",
    "    Note: Injury, mental, and pain_scale could be correlated. Need to run models and get stats to find out. Pain is just a binary yes or no definitely correlated to pain-scale. So running a model with pain and one with pain_scale\n",
    "    \n",
    "    2. Same as 1. but swap pain (binary) for pain_bins\n",
    "    \n",
    "    3. Same as 1. but swap KTAS_RN for KTAS_expert\n",
    "    \n",
    "   Make a decisio about pain vs pain_scale and KTAS_expert vs KTAS_RN\n",
    "    \n",
    "    4. Hospital 1 (subset), sex, age_bins, patient_freq_bins, arrival_mode (dummies), injury, mental, pain_bins, KTAS expert, SBP_bins, DBP_bins, HR_bins, RR_bins, BT_bins, stay_bins, saturation\n",
    "    \n",
    "    5. Hospital 0 (subset), sex, age_bins, patient_freq_bins, arrival_mode (dummies), injury, mental, pain_bins, KTAS expert, SBP_bins, DBP_bins, HR_bins, RR_bins, BT_bins, stay_bins\n",
    "    \n",
    "   Decide if saturation is important or if it's easier to predict within 1 hospital vs another\n",
    "    \n",
    "    6. Drop KTAS to see if it's possible to predict without triage\n",
    "\n",
    "Cut Features\n",
    "\n",
    "Use variance method and other statistics"
   ]
  },
  {
   "cell_type": "markdown",
   "metadata": {},
   "source": [
    "**Get Dummy Variables and Build X for model 1**"
   ]
  },
  {
   "cell_type": "markdown",
   "metadata": {},
   "source": [
    "Get dummies for arrival mode"
   ]
  },
  {
   "cell_type": "code",
   "execution_count": 153,
   "metadata": {},
   "outputs": [
    {
     "data": {
      "text/plain": [
       "Index(['hospital', 'sex', 'age', 'patient_num_hr', 'arrival_mode', 'injury',\n",
       "       'complaint', 'mental', 'pain', 'pain_scale', 'SBP', 'DBP', 'HR', 'RR',\n",
       "       'BT', 'saturation', 'KTAS_RN', 'diagnosis', 'result', 'KTAS_expert',\n",
       "       'error_code', 'stay_min', 'KTAS_duration_min', 'mistriage',\n",
       "       'admissions', 'age_bins', 'patient_freq_bins', 'PP', 'SBP_bins',\n",
       "       'DBP_bins', 'HR_bins', 'RR_bins', 'BT_bins', 'stay_bins', 'pain_bins',\n",
       "       'mental_bins'],\n",
       "      dtype='object')"
      ]
     },
     "execution_count": 153,
     "metadata": {},
     "output_type": "execute_result"
    }
   ],
   "source": [
    "df_clean.columns"
   ]
  },
  {
   "cell_type": "code",
   "execution_count": 190,
   "metadata": {},
   "outputs": [],
   "source": [
    "arrival_mode = pd.get_dummies(df_clean['arrival_mode'], drop_first = True)"
   ]
  },
  {
   "cell_type": "code",
   "execution_count": 191,
   "metadata": {},
   "outputs": [],
   "source": [
    "age_bins =  pd.get_dummies(df_clean['age_bins'], drop_first = True)\n",
    "patient_freq_bins = pd.get_dummies(df_clean['patient_freq_bins'], drop_first = True)\n",
    "sbp_bins = pd.get_dummies(df_clean['SBP_bins'], drop_first = True)\n",
    "dbp_bins = pd.get_dummies(df_clean['DBP_bins'], drop_first = True)\n",
    "hr_bins = pd.get_dummies(df_clean['HR_bins'], drop_first = True)\n",
    "rr_bins = pd.get_dummies(df_clean['RR_bins'], drop_first = True)\n",
    "bt_bins = pd.get_dummies(df_clean['BT_bins'], drop_first = True)\n",
    "stay_bins = pd.get_dummies(df_clean['stay_bins'], drop_first = True)\n",
    "pain_bins = pd.get_dummies(df_clean['pain_bins'], drop_first = True)\n",
    "mental_bins = pd.get_dummies(df_clean['mental_bins'], drop_first=True)\n",
    "KTAS_expert = pd.get_dummies(df_clean['KTAS_expert'], drop_first = True)"
   ]
  },
  {
   "cell_type": "markdown",
   "metadata": {},
   "source": [
    "Not dealing with complaint and diagnosis grouping for now"
   ]
  },
  {
   "cell_type": "code",
   "execution_count": 193,
   "metadata": {},
   "outputs": [],
   "source": [
    "not_dummies = df_clean[['hospital', 'sex', 'injury', 'admissions']]"
   ]
  },
  {
   "cell_type": "code",
   "execution_count": 197,
   "metadata": {},
   "outputs": [],
   "source": [
    "# Removing stay bins, because this is cheating\n",
    "df_fe = pd.concat([not_dummies, age_bins, patient_freq_bins, sbp_bins, dbp_bins, hr_bins, rr_bins,\n",
    "          bt_bins, pain_bins, mental_bins, KTAS_expert], axis = 1)"
   ]
  },
  {
   "cell_type": "code",
   "execution_count": 198,
   "metadata": {},
   "outputs": [],
   "source": [
    "with open('data/df_clean_fe.pickle', 'wb') as to_write:\n",
    "    pickle.dump(df_fe, to_write)"
   ]
  }
 ],
 "metadata": {
  "kernelspec": {
   "display_name": "Python 3",
   "language": "python",
   "name": "python3"
  },
  "language_info": {
   "codemirror_mode": {
    "name": "ipython",
    "version": 3
   },
   "file_extension": ".py",
   "mimetype": "text/x-python",
   "name": "python",
   "nbconvert_exporter": "python",
   "pygments_lexer": "ipython3",
   "version": "3.7.4"
  }
 },
 "nbformat": 4,
 "nbformat_minor": 4
}
