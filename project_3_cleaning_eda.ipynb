{
 "cells": [
  {
   "cell_type": "markdown",
   "metadata": {},
   "source": [
    "# Cleaning and EDA\n",
    "Dataset: Triage accuracy and causes of mistriage using the Korean Triage and Acuity Scale"
   ]
  },
  {
   "cell_type": "code",
   "execution_count": 4,
   "metadata": {},
   "outputs": [],
   "source": [
    "import pandas as pd\n",
    "import numpy as np\n",
    "import matplotlib.pyplot as plt\n",
    "import seaborn as sns\n",
    "import pickle"
   ]
  },
  {
   "cell_type": "markdown",
   "metadata": {},
   "source": [
    "Conclusion this study came to: \n",
    "There was highly agreement between the KTAS scores determined by emergency nurses and those determined by experts. The main cause of mistriage was misapplication of the pain scale to the KTAS algorithm."
   ]
  },
  {
   "cell_type": "code",
   "execution_count": 4,
   "metadata": {},
   "outputs": [],
   "source": [
    "df_raw = pd.read_excel('data/raw.xls')\n",
    "df_codes = pd.read_excel('data/codes.xls')"
   ]
  },
  {
   "cell_type": "markdown",
   "metadata": {},
   "source": [
    "## Understanding the Features\n",
    "\n",
    "Going through feature by feature, graphing distribution, and cleaning raw data"
   ]
  },
  {
   "cell_type": "code",
   "execution_count": 163,
   "metadata": {},
   "outputs": [
    {
     "data": {
      "text/html": [
       "<div>\n",
       "<style scoped>\n",
       "    .dataframe tbody tr th:only-of-type {\n",
       "        vertical-align: middle;\n",
       "    }\n",
       "\n",
       "    .dataframe tbody tr th {\n",
       "        vertical-align: top;\n",
       "    }\n",
       "\n",
       "    .dataframe thead th {\n",
       "        text-align: right;\n",
       "    }\n",
       "</style>\n",
       "<table border=\"1\" class=\"dataframe\">\n",
       "  <thead>\n",
       "    <tr style=\"text-align: right;\">\n",
       "      <th></th>\n",
       "      <th>Group</th>\n",
       "      <th>Sex</th>\n",
       "      <th>Age</th>\n",
       "      <th>Patients number per hour</th>\n",
       "      <th>Arrival mode</th>\n",
       "      <th>Injury</th>\n",
       "      <th>Chief_complain</th>\n",
       "      <th>Mental</th>\n",
       "      <th>Pain</th>\n",
       "      <th>NRS_pain</th>\n",
       "      <th>...</th>\n",
       "      <th>BT</th>\n",
       "      <th>Saturation</th>\n",
       "      <th>KTAS_RN</th>\n",
       "      <th>Diagnosis in ED</th>\n",
       "      <th>Disposition</th>\n",
       "      <th>KTAS_expert</th>\n",
       "      <th>Error_group</th>\n",
       "      <th>Length of stay_min</th>\n",
       "      <th>KTAS duration_min</th>\n",
       "      <th>mistriage</th>\n",
       "    </tr>\n",
       "  </thead>\n",
       "  <tbody>\n",
       "    <tr>\n",
       "      <td>0</td>\n",
       "      <td>2</td>\n",
       "      <td>2</td>\n",
       "      <td>71</td>\n",
       "      <td>3</td>\n",
       "      <td>3</td>\n",
       "      <td>2</td>\n",
       "      <td>right ocular pain</td>\n",
       "      <td>1</td>\n",
       "      <td>1</td>\n",
       "      <td>2.0</td>\n",
       "      <td>...</td>\n",
       "      <td>36.6</td>\n",
       "      <td>100</td>\n",
       "      <td>2</td>\n",
       "      <td>Corneal abrasion</td>\n",
       "      <td>1</td>\n",
       "      <td>4</td>\n",
       "      <td>2</td>\n",
       "      <td>86</td>\n",
       "      <td>5.00</td>\n",
       "      <td>1</td>\n",
       "    </tr>\n",
       "    <tr>\n",
       "      <td>1</td>\n",
       "      <td>1</td>\n",
       "      <td>1</td>\n",
       "      <td>56</td>\n",
       "      <td>12</td>\n",
       "      <td>3</td>\n",
       "      <td>2</td>\n",
       "      <td>right forearm burn</td>\n",
       "      <td>1</td>\n",
       "      <td>1</td>\n",
       "      <td>2.0</td>\n",
       "      <td>...</td>\n",
       "      <td>36.5</td>\n",
       "      <td>NaN</td>\n",
       "      <td>4</td>\n",
       "      <td>Burn of hand, firts degree dorsum</td>\n",
       "      <td>1</td>\n",
       "      <td>5</td>\n",
       "      <td>4</td>\n",
       "      <td>64</td>\n",
       "      <td>3.95</td>\n",
       "      <td>1</td>\n",
       "    </tr>\n",
       "    <tr>\n",
       "      <td>2</td>\n",
       "      <td>2</td>\n",
       "      <td>1</td>\n",
       "      <td>68</td>\n",
       "      <td>8</td>\n",
       "      <td>2</td>\n",
       "      <td>2</td>\n",
       "      <td>arm pain, Lt</td>\n",
       "      <td>1</td>\n",
       "      <td>1</td>\n",
       "      <td>2.0</td>\n",
       "      <td>...</td>\n",
       "      <td>36.6</td>\n",
       "      <td>98</td>\n",
       "      <td>4</td>\n",
       "      <td>Fracture of surgical neck of humerus, closed</td>\n",
       "      <td>2</td>\n",
       "      <td>5</td>\n",
       "      <td>4</td>\n",
       "      <td>862</td>\n",
       "      <td>1.00</td>\n",
       "      <td>1</td>\n",
       "    </tr>\n",
       "    <tr>\n",
       "      <td>3</td>\n",
       "      <td>1</td>\n",
       "      <td>2</td>\n",
       "      <td>71</td>\n",
       "      <td>8</td>\n",
       "      <td>1</td>\n",
       "      <td>1</td>\n",
       "      <td>ascites tapping</td>\n",
       "      <td>1</td>\n",
       "      <td>1</td>\n",
       "      <td>3.0</td>\n",
       "      <td>...</td>\n",
       "      <td>36.5</td>\n",
       "      <td>NaN</td>\n",
       "      <td>4</td>\n",
       "      <td>Alcoholic liver cirrhosis with ascites</td>\n",
       "      <td>1</td>\n",
       "      <td>5</td>\n",
       "      <td>6</td>\n",
       "      <td>108</td>\n",
       "      <td>9.83</td>\n",
       "      <td>1</td>\n",
       "    </tr>\n",
       "    <tr>\n",
       "      <td>4</td>\n",
       "      <td>1</td>\n",
       "      <td>2</td>\n",
       "      <td>58</td>\n",
       "      <td>4</td>\n",
       "      <td>3</td>\n",
       "      <td>1</td>\n",
       "      <td>distension, abd</td>\n",
       "      <td>1</td>\n",
       "      <td>1</td>\n",
       "      <td>3.0</td>\n",
       "      <td>...</td>\n",
       "      <td>36.5</td>\n",
       "      <td>NaN</td>\n",
       "      <td>4</td>\n",
       "      <td>Ascites</td>\n",
       "      <td>1</td>\n",
       "      <td>5</td>\n",
       "      <td>8</td>\n",
       "      <td>109</td>\n",
       "      <td>6.60</td>\n",
       "      <td>1</td>\n",
       "    </tr>\n",
       "  </tbody>\n",
       "</table>\n",
       "<p>5 rows × 24 columns</p>\n",
       "</div>"
      ],
      "text/plain": [
       "   Group  Sex  Age  Patients number per hour  Arrival mode  Injury  \\\n",
       "0      2    2   71                         3             3       2   \n",
       "1      1    1   56                        12             3       2   \n",
       "2      2    1   68                         8             2       2   \n",
       "3      1    2   71                         8             1       1   \n",
       "4      1    2   58                         4             3       1   \n",
       "\n",
       "       Chief_complain  Mental  Pain  NRS_pain  ...    BT Saturation KTAS_RN  \\\n",
       "0   right ocular pain       1     1       2.0  ...  36.6        100       2   \n",
       "1  right forearm burn       1     1       2.0  ...  36.5        NaN       4   \n",
       "2        arm pain, Lt       1     1       2.0  ...  36.6         98       4   \n",
       "3     ascites tapping       1     1       3.0  ...  36.5        NaN       4   \n",
       "4     distension, abd       1     1       3.0  ...  36.5        NaN       4   \n",
       "\n",
       "                                Diagnosis in ED Disposition KTAS_expert  \\\n",
       "0                              Corneal abrasion           1           4   \n",
       "1             Burn of hand, firts degree dorsum           1           5   \n",
       "2  Fracture of surgical neck of humerus, closed           2           5   \n",
       "3        Alcoholic liver cirrhosis with ascites           1           5   \n",
       "4                                       Ascites           1           5   \n",
       "\n",
       "   Error_group Length of stay_min  KTAS duration_min  mistriage  \n",
       "0            2                 86               5.00          1  \n",
       "1            4                 64               3.95          1  \n",
       "2            4                862               1.00          1  \n",
       "3            6                108               9.83          1  \n",
       "4            8                109               6.60          1  \n",
       "\n",
       "[5 rows x 24 columns]"
      ]
     },
     "execution_count": 163,
     "metadata": {},
     "output_type": "execute_result"
    }
   ],
   "source": [
    "df_raw.head()"
   ]
  },
  {
   "cell_type": "code",
   "execution_count": 164,
   "metadata": {},
   "outputs": [
    {
     "data": {
      "text/html": [
       "<div>\n",
       "<style scoped>\n",
       "    .dataframe tbody tr th:only-of-type {\n",
       "        vertical-align: middle;\n",
       "    }\n",
       "\n",
       "    .dataframe tbody tr th {\n",
       "        vertical-align: top;\n",
       "    }\n",
       "\n",
       "    .dataframe thead th {\n",
       "        text-align: right;\n",
       "    }\n",
       "</style>\n",
       "<table border=\"1\" class=\"dataframe\">\n",
       "  <thead>\n",
       "    <tr style=\"text-align: right;\">\n",
       "      <th></th>\n",
       "      <th>Group</th>\n",
       "      <th>1: Local ED / 2: Regional ED</th>\n",
       "    </tr>\n",
       "  </thead>\n",
       "  <tbody>\n",
       "    <tr>\n",
       "      <td>0</td>\n",
       "      <td>Sex</td>\n",
       "      <td>1: Female / 2: Male</td>\n",
       "    </tr>\n",
       "    <tr>\n",
       "      <td>1</td>\n",
       "      <td>Age</td>\n",
       "      <td>Age (Years)</td>\n",
       "    </tr>\n",
       "    <tr>\n",
       "      <td>2</td>\n",
       "      <td>Patients number per hour</td>\n",
       "      <td>Patients number/hous</td>\n",
       "    </tr>\n",
       "    <tr>\n",
       "      <td>3</td>\n",
       "      <td>Arrival mode</td>\n",
       "      <td>1: Walking / 2: 119 use / 3: Private car / 4: ...</td>\n",
       "    </tr>\n",
       "    <tr>\n",
       "      <td>4</td>\n",
       "      <td>Injury</td>\n",
       "      <td>1: Non-injury / 2: Injury</td>\n",
       "    </tr>\n",
       "    <tr>\n",
       "      <td>5</td>\n",
       "      <td>Mental</td>\n",
       "      <td>1: Alert / 2: Verval response / 3: Pain respon...</td>\n",
       "    </tr>\n",
       "    <tr>\n",
       "      <td>6</td>\n",
       "      <td>Pain</td>\n",
       "      <td>1: Pain / 2: Non-pain</td>\n",
       "    </tr>\n",
       "    <tr>\n",
       "      <td>7</td>\n",
       "      <td>NRS_pain</td>\n",
       "      <td>Numeric rating scales of pain</td>\n",
       "    </tr>\n",
       "    <tr>\n",
       "      <td>8</td>\n",
       "      <td>SBP</td>\n",
       "      <td>Systolid blood pressure</td>\n",
       "    </tr>\n",
       "    <tr>\n",
       "      <td>9</td>\n",
       "      <td>DBP</td>\n",
       "      <td>Diastolic blood pressure</td>\n",
       "    </tr>\n",
       "    <tr>\n",
       "      <td>10</td>\n",
       "      <td>HR</td>\n",
       "      <td>Heart rate</td>\n",
       "    </tr>\n",
       "    <tr>\n",
       "      <td>11</td>\n",
       "      <td>RR</td>\n",
       "      <td>Respiration rate</td>\n",
       "    </tr>\n",
       "    <tr>\n",
       "      <td>12</td>\n",
       "      <td>BT</td>\n",
       "      <td>Body temperature</td>\n",
       "    </tr>\n",
       "    <tr>\n",
       "      <td>13</td>\n",
       "      <td>Saturation</td>\n",
       "      <td>Saturation to use pulse oxmeter</td>\n",
       "    </tr>\n",
       "    <tr>\n",
       "      <td>14</td>\n",
       "      <td>KTAS_RN</td>\n",
       "      <td>KTAS result of nuses in ED</td>\n",
       "    </tr>\n",
       "    <tr>\n",
       "      <td>15</td>\n",
       "      <td>Disposition</td>\n",
       "      <td>1: Discharge / 2: Ward admission / 3: ICU admi...</td>\n",
       "    </tr>\n",
       "    <tr>\n",
       "      <td>16</td>\n",
       "      <td>KTAS_expert</td>\n",
       "      <td>KTAS result of experts</td>\n",
       "    </tr>\n",
       "    <tr>\n",
       "      <td>17</td>\n",
       "      <td>Error_group</td>\n",
       "      <td>1: Vital sign / 2: Physical exam / 3: Psychatr...</td>\n",
       "    </tr>\n",
       "    <tr>\n",
       "      <td>18</td>\n",
       "      <td>Length of stay_min</td>\n",
       "      <td>Length of stay (minutes)</td>\n",
       "    </tr>\n",
       "    <tr>\n",
       "      <td>19</td>\n",
       "      <td>KTAS duration_min</td>\n",
       "      <td>KTAS duration (minutes)</td>\n",
       "    </tr>\n",
       "    <tr>\n",
       "      <td>20</td>\n",
       "      <td>Mistriage</td>\n",
       "      <td>0: Correct / 1: Over triage / 2: Under triage</td>\n",
       "    </tr>\n",
       "  </tbody>\n",
       "</table>\n",
       "</div>"
      ],
      "text/plain": [
       "                       Group  \\\n",
       "0                        Sex   \n",
       "1                       Age    \n",
       "2   Patients number per hour   \n",
       "3               Arrival mode   \n",
       "4                     Injury   \n",
       "5                    Mental    \n",
       "6                      Pain    \n",
       "7                   NRS_pain   \n",
       "8                        SBP   \n",
       "9                        DBP   \n",
       "10                        HR   \n",
       "11                        RR   \n",
       "12                        BT   \n",
       "13                Saturation   \n",
       "14                   KTAS_RN   \n",
       "15               Disposition   \n",
       "16               KTAS_expert   \n",
       "17               Error_group   \n",
       "18        Length of stay_min   \n",
       "19         KTAS duration_min   \n",
       "20                 Mistriage   \n",
       "\n",
       "                         1: Local ED / 2: Regional ED  \n",
       "0                                 1: Female / 2: Male  \n",
       "1                                         Age (Years)  \n",
       "2                                Patients number/hous  \n",
       "3   1: Walking / 2: 119 use / 3: Private car / 4: ...  \n",
       "4                           1: Non-injury / 2: Injury  \n",
       "5   1: Alert / 2: Verval response / 3: Pain respon...  \n",
       "6                               1: Pain / 2: Non-pain  \n",
       "7                       Numeric rating scales of pain  \n",
       "8                             Systolid blood pressure  \n",
       "9                            Diastolic blood pressure  \n",
       "10                                         Heart rate  \n",
       "11                                   Respiration rate  \n",
       "12                                   Body temperature  \n",
       "13                    Saturation to use pulse oxmeter  \n",
       "14                         KTAS result of nuses in ED  \n",
       "15  1: Discharge / 2: Ward admission / 3: ICU admi...  \n",
       "16                             KTAS result of experts  \n",
       "17  1: Vital sign / 2: Physical exam / 3: Psychatr...  \n",
       "18                           Length of stay (minutes)  \n",
       "19                            KTAS duration (minutes)  \n",
       "20      0: Correct / 1: Over triage / 2: Under triage  "
      ]
     },
     "execution_count": 164,
     "metadata": {},
     "output_type": "execute_result"
    }
   ],
   "source": [
    "# These codes describe the features \n",
    "df_codes"
   ]
  },
  {
   "cell_type": "code",
   "execution_count": 143,
   "metadata": {},
   "outputs": [
    {
     "name": "stdout",
     "output_type": "stream",
     "text": [
      "<class 'pandas.core.frame.DataFrame'>\n",
      "RangeIndex: 1267 entries, 0 to 1266\n",
      "Data columns (total 24 columns):\n",
      "Group                       1267 non-null int64\n",
      "Sex                         1267 non-null int64\n",
      "Age                         1267 non-null int64\n",
      "Patients number per hour    1267 non-null int64\n",
      "Arrival mode                1267 non-null int64\n",
      "Injury                      1267 non-null int64\n",
      "Chief_complain              1267 non-null object\n",
      "Mental                      1267 non-null int64\n",
      "Pain                        1267 non-null int64\n",
      "NRS_pain                    711 non-null float64\n",
      "SBP                         1267 non-null object\n",
      "DBP                         1267 non-null object\n",
      "HR                          1267 non-null object\n",
      "RR                          1267 non-null object\n",
      "BT                          1267 non-null object\n",
      "Saturation                  579 non-null object\n",
      "KTAS_RN                     1267 non-null int64\n",
      "Diagnosis in ED             1265 non-null object\n",
      "Disposition                 1267 non-null int64\n",
      "KTAS_expert                 1267 non-null int64\n",
      "Error_group                 1267 non-null int64\n",
      "Length of stay_min          1267 non-null int64\n",
      "KTAS duration_min           1267 non-null float64\n",
      "mistriage                   1267 non-null int64\n",
      "dtypes: float64(2), int64(14), object(8)\n",
      "memory usage: 237.7+ KB\n"
     ]
    }
   ],
   "source": [
    "# Looks like there are some nans in the NRS_pain and Saturation features\n",
    "df_raw.info()"
   ]
  },
  {
   "cell_type": "markdown",
   "metadata": {},
   "source": [
    "**Group** Refers to the hospital where this data was collected (2 hospitals were used)\n",
    "Changing to **hospital** 0: local hospital, 1: Regional hospital\n",
    "\n",
    "0: Local ED / 1: Regional ED"
   ]
  },
  {
   "cell_type": "code",
   "execution_count": 165,
   "metadata": {},
   "outputs": [],
   "source": [
    "df_clean = df_raw.rename(columns = {'Group':'hospital'})\n",
    "df_clean['hospital'] = df_clean['hospital'].replace({1:0, 2:1})"
   ]
  },
  {
   "cell_type": "code",
   "execution_count": 166,
   "metadata": {},
   "outputs": [
    {
     "data": {
      "image/png": "[encoded data removed]",
      "text/plain": [
       "<Figure size 640x480 with 1 Axes>"
      ]
     },
     "metadata": {},
     "output_type": "display_data"
    }
   ],
   "source": [
    "sns.countplot(df_clean['hospital']);"
   ]
  },
  {
   "cell_type": "markdown",
   "metadata": {},
   "source": [
    "**Sex** Refers to female/male. Changing to **sex**\n",
    "\n",
    "0: Female / 1: Male"
   ]
  },
  {
   "cell_type": "code",
   "execution_count": 167,
   "metadata": {},
   "outputs": [],
   "source": [
    "df_clean = df_clean.rename(columns = {'Sex':'sex'})\n",
    "df_clean['sex'] = df_clean['sex'].replace({1:0, 2:1})"
   ]
  },
  {
   "cell_type": "code",
   "execution_count": 168,
   "metadata": {},
   "outputs": [
    {
     "data": {
      "image/png": "[encoded data removed]",
      "text/plain": [
       "<Figure size 640x480 with 1 Axes>"
      ]
     },
     "metadata": {},
     "output_type": "display_data"
    }
   ],
   "source": [
    "sns.countplot(df_clean['sex']);"
   ]
  },
  {
   "cell_type": "markdown",
   "metadata": {},
   "source": [
    "**Age** refers to age. Changing to **age**\n",
    "\n",
    "Age (Years)"
   ]
  },
  {
   "cell_type": "code",
   "execution_count": 169,
   "metadata": {},
   "outputs": [],
   "source": [
    "df_clean = df_clean.rename(columns = {'Age':'age'})"
   ]
  },
  {
   "cell_type": "code",
   "execution_count": 170,
   "metadata": {},
   "outputs": [
    {
     "data": {
      "image/png": "[encoded data removed]",
      "text/plain": [
       "<Figure size 640x480 with 1 Axes>"
      ]
     },
     "metadata": {},
     "output_type": "display_data"
    }
   ],
   "source": [
    "sns.distplot(df_clean['age']);"
   ]
  },
  {
   "cell_type": "markdown",
   "metadata": {},
   "source": [
    "**Patients number per hour** refers to (maybe) the number in line that this patient was within the hour? I don't fully understand this feature, and the description is not incredibly helpful. Maybe the number of patients who were also seen in this hour? Or an id number for the hour? Changing to **patient_num_hr**\n",
    "\n",
    "Patients number/hous\n",
    "\n",
    "Found this:\n",
    "\n",
    "An independent sample t-test was conducted to compare the number of patient visits per hour in terms of the accuracy and inaccuracy of triage.\n",
    "\n",
    "So I think number of patients seen in an hour"
   ]
  },
  {
   "cell_type": "code",
   "execution_count": 171,
   "metadata": {},
   "outputs": [],
   "source": [
    "df_clean = df_clean.rename(columns = {'Patients number per hour':'patient_num_hr'})"
   ]
  },
  {
   "cell_type": "code",
   "execution_count": 172,
   "metadata": {},
   "outputs": [
    {
     "data": {
      "image/png": "[encoded data removed]",
      "text/plain": [
       "<Figure size 640x480 with 1 Axes>"
      ]
     },
     "metadata": {},
     "output_type": "display_data"
    }
   ],
   "source": [
    "sns.distplot(df_clean['patient_num_hr']);"
   ]
  },
  {
   "cell_type": "markdown",
   "metadata": {},
   "source": [
    "**Arrival Mode** refers to how the patient got there. This could be:\n",
    "1: Walking / 2: 119 use / 3: Private car / 4: Private ambulance / 5: Public transfotation (Police ets) /6: Wheelchair / 7: Others \n",
    "\n",
    "Changing to **arrival_mode** and replacing categoricals"
   ]
  },
  {
   "cell_type": "code",
   "execution_count": 173,
   "metadata": {},
   "outputs": [],
   "source": [
    "df_clean = df_clean.rename(columns = {'Arrival mode':'arrival_mode'})\n",
    "df_clean['arrival_mode'] = df_clean['arrival_mode'].replace({1:'walking', 2:'ambulance', 3:'car', 4:'private_ambulance',\n",
    "                            5: 'public_transit', 6:'wheelchair', 7:'other', 0:np.nan})"
   ]
  },
  {
   "cell_type": "code",
   "execution_count": 174,
   "metadata": {},
   "outputs": [
    {
     "data": {
      "image/png": "[encoded data removed]",
      "text/plain": [
       "<Figure size 640x480 with 1 Axes>"
      ]
     },
     "metadata": {},
     "output_type": "display_data"
    }
   ],
   "source": [
    "plt.rcdefaults()\n",
    "fig, ax = plt.subplots()\n",
    "\n",
    "y_labels = df_clean['arrival_mode'].unique()\n",
    "y_pos = np.arange(len(y_labels))\n",
    "x = df_clean['arrival_mode'].value_counts()\n",
    "\n",
    "ax.barh(y_pos, x, align='center')\n",
    "ax.set_yticks(y_pos)\n",
    "ax.set_yticklabels(y_labels)\n",
    "ax.invert_yaxis()  # labels read top-to-bottom\n",
    "ax.set_xlabel('Count')\n",
    "ax.set_title('Count Plot Arrival Mode');"
   ]
  },
  {
   "cell_type": "markdown",
   "metadata": {},
   "source": [
    "**Injury** refers to whether an injury was present or not. Changing to **injury**\n",
    "\n",
    "0: Non-injury / 1: Injury"
   ]
  },
  {
   "cell_type": "code",
   "execution_count": 175,
   "metadata": {},
   "outputs": [],
   "source": [
    "df_clean = df_clean.rename(columns = {'Injury':'injury'})\n",
    "df_clean['injury'] = df_clean['injury'].replace({1:0, 2:1})"
   ]
  },
  {
   "cell_type": "code",
   "execution_count": 176,
   "metadata": {},
   "outputs": [
    {
     "data": {
      "text/plain": [
       "<matplotlib.axes._subplots.AxesSubplot at 0x1a237b46d8>"
      ]
     },
     "execution_count": 176,
     "metadata": {},
     "output_type": "execute_result"
    },
    {
     "data": {
      "image/png": "[encoded data removed]",
      "text/plain": [
       "<Figure size 640x480 with 1 Axes>"
      ]
     },
     "metadata": {},
     "output_type": "display_data"
    }
   ],
   "source": [
    "sns.countplot(df_clean['injury'])"
   ]
  },
  {
   "cell_type": "markdown",
   "metadata": {},
   "source": [
    "**Cheif Complaint** refers to the main complaint. Changing to **complaint**"
   ]
  },
  {
   "cell_type": "code",
   "execution_count": 177,
   "metadata": {},
   "outputs": [],
   "source": [
    "df_clean = df_clean.rename(columns = {'Chief_complain':'complaint'})"
   ]
  },
  {
   "cell_type": "markdown",
   "metadata": {},
   "source": [
    "**Mental** refers to mental state. Changint to **mental**\n",
    "\n",
    "1: Alert / 2: Verval response / 3: Pain response / 4: Unconciousness\n",
    "\n",
    "Scale goes 1: mild to 4:severe"
   ]
  },
  {
   "cell_type": "code",
   "execution_count": 178,
   "metadata": {},
   "outputs": [],
   "source": [
    "df_clean = df_clean.rename(columns = {'Mental':'mental'})"
   ]
  },
  {
   "cell_type": "code",
   "execution_count": 179,
   "metadata": {},
   "outputs": [
    {
     "data": {
      "text/plain": [
       "<matplotlib.axes._subplots.AxesSubplot at 0x10d670208>"
      ]
     },
     "execution_count": 179,
     "metadata": {},
     "output_type": "execute_result"
    },
    {
     "data": {
      "image/png": "[encoded data removed]",
      "text/plain": [
       "<Figure size 640x480 with 1 Axes>"
      ]
     },
     "metadata": {},
     "output_type": "display_data"
    }
   ],
   "source": [
    "sns.countplot(df_clean['mental'])"
   ]
  },
  {
   "cell_type": "markdown",
   "metadata": {},
   "source": [
    "**Pain** refers to presence of pain. Change to **pain**\n",
    "\n",
    "0: Non-pain / 1: Pain\n",
    "\n",
    "Pain was mislabeled by the feature descriptions. 1 means Pain, because there are only pain scale ratings for 1"
   ]
  },
  {
   "cell_type": "code",
   "execution_count": 184,
   "metadata": {},
   "outputs": [],
   "source": [
    "df_clean = df_clean.rename(columns = {'Pain':'pain'})"
   ]
  },
  {
   "cell_type": "code",
   "execution_count": 185,
   "metadata": {},
   "outputs": [
    {
     "data": {
      "text/plain": [
       "<matplotlib.axes._subplots.AxesSubplot at 0x1a23750390>"
      ]
     },
     "execution_count": 185,
     "metadata": {},
     "output_type": "execute_result"
    },
    {
     "data": {
      "image/png": "[encoded data removed]",
      "text/plain": [
       "<Figure size 640x480 with 1 Axes>"
      ]
     },
     "metadata": {},
     "output_type": "display_data"
    }
   ],
   "source": [
    "sns.countplot(df_clean['pain'])"
   ]
  },
  {
   "cell_type": "markdown",
   "metadata": {},
   "source": [
    "**NRS_pain** refers to the pain scale. Change to **pain_scale**\n",
    "\n",
    "0: none, 9:severe\n",
    "\n",
    "Numeric rating scales of pain\n",
    "\n",
    "Contains NaN values"
   ]
  },
  {
   "cell_type": "code",
   "execution_count": 186,
   "metadata": {},
   "outputs": [],
   "source": [
    "df_clean = df_clean.rename(columns = {'NRS_pain':'pain_scale'})"
   ]
  },
  {
   "cell_type": "code",
   "execution_count": 187,
   "metadata": {},
   "outputs": [
    {
     "data": {
      "image/png": "[encoded data removed]",
      "text/plain": [
       "<Figure size 640x480 with 1 Axes>"
      ]
     },
     "metadata": {},
     "output_type": "display_data"
    }
   ],
   "source": [
    "plt.rcdefaults()\n",
    "fig, ax = plt.subplots()\n",
    "\n",
    "y_labels = df_clean['pain_scale'].dropna().value_counts().index\n",
    "y_pos = np.arange(len(y_labels))\n",
    "x = df_clean['pain_scale'].value_counts()\n",
    "\n",
    "ax.barh(y_pos, x, align='center')\n",
    "ax.set_yticks(y_pos)\n",
    "ax.set_yticklabels(y_labels)\n",
    "ax.invert_yaxis()  # labels read top-to-bottom\n",
    "ax.set_xlabel('Count')\n",
    "ax.set_title('Count Plot Pain Scale');"
   ]
  },
  {
   "cell_type": "markdown",
   "metadata": {},
   "source": [
    "**SBP** refers to Systolic Blood Pressure "
   ]
  },
  {
   "cell_type": "code",
   "execution_count": 188,
   "metadata": {},
   "outputs": [],
   "source": [
    "# Check if strings in SBP\n",
    "strings = [x for x in df_clean['SBP'] if type(x) is str]"
   ]
  },
  {
   "cell_type": "code",
   "execution_count": 189,
   "metadata": {},
   "outputs": [
    {
     "data": {
      "text/plain": [
       "25"
      ]
     },
     "execution_count": 189,
     "metadata": {},
     "output_type": "execute_result"
    }
   ],
   "source": [
    "len(strings)"
   ]
  },
  {
   "cell_type": "code",
   "execution_count": 190,
   "metadata": {},
   "outputs": [],
   "source": [
    "#Changing weird '__' to nan\n",
    "df_clean['SBP'] = df_clean['SBP'].replace({'__':np.nan})"
   ]
  },
  {
   "cell_type": "code",
   "execution_count": 191,
   "metadata": {},
   "outputs": [
    {
     "data": {
      "image/png": "[encoded data removed]",
      "text/plain": [
       "<Figure size 640x480 with 1 Axes>"
      ]
     },
     "metadata": {},
     "output_type": "display_data"
    }
   ],
   "source": [
    "sns.distplot(df_clean['SBP'].dropna());"
   ]
  },
  {
   "cell_type": "markdown",
   "metadata": {},
   "source": [
    "**DBP** refers to Diastolic blood pressure"
   ]
  },
  {
   "cell_type": "code",
   "execution_count": 192,
   "metadata": {},
   "outputs": [],
   "source": [
    "# Check if strings in DBP\n",
    "strings = [x for x in df_clean['DBP'] if type(x) is str]"
   ]
  },
  {
   "cell_type": "code",
   "execution_count": 193,
   "metadata": {},
   "outputs": [
    {
     "data": {
      "text/plain": [
       "29"
      ]
     },
     "execution_count": 193,
     "metadata": {},
     "output_type": "execute_result"
    }
   ],
   "source": [
    "len(strings)"
   ]
  },
  {
   "cell_type": "code",
   "execution_count": 194,
   "metadata": {},
   "outputs": [],
   "source": [
    "#Changing weird '__' to nan\n",
    "df_clean['DBP'] = df_clean['DBP'].replace({'__':np.nan})"
   ]
  },
  {
   "cell_type": "code",
   "execution_count": 195,
   "metadata": {},
   "outputs": [
    {
     "data": {
      "image/png": "[encoded data removed]",
      "text/plain": [
       "<Figure size 640x480 with 1 Axes>"
      ]
     },
     "metadata": {},
     "output_type": "display_data"
    }
   ],
   "source": [
    "sns.distplot(df_clean['DBP'].dropna());"
   ]
  },
  {
   "cell_type": "markdown",
   "metadata": {},
   "source": [
    "**HR** refers to heart rate. "
   ]
  },
  {
   "cell_type": "code",
   "execution_count": 196,
   "metadata": {},
   "outputs": [],
   "source": [
    "# Check if strings in HR\n",
    "strings = [x for x in df_clean['HR'] if type(x) is str]"
   ]
  },
  {
   "cell_type": "code",
   "execution_count": 197,
   "metadata": {},
   "outputs": [
    {
     "data": {
      "text/plain": [
       "20"
      ]
     },
     "execution_count": 197,
     "metadata": {},
     "output_type": "execute_result"
    }
   ],
   "source": [
    "len(strings)"
   ]
  },
  {
   "cell_type": "code",
   "execution_count": 198,
   "metadata": {},
   "outputs": [],
   "source": [
    "#Changing weird '__' to nan\n",
    "df_clean['HR'] = df_clean['HR'].replace({'__':np.nan})"
   ]
  },
  {
   "cell_type": "code",
   "execution_count": 199,
   "metadata": {},
   "outputs": [
    {
     "data": {
      "image/png": "[encoded data removed]",
      "text/plain": [
       "<Figure size 640x480 with 1 Axes>"
      ]
     },
     "metadata": {},
     "output_type": "display_data"
    }
   ],
   "source": [
    "sns.distplot(df_clean['HR'].dropna());"
   ]
  },
  {
   "cell_type": "markdown",
   "metadata": {},
   "source": [
    "**RR** refers to Respiration rate"
   ]
  },
  {
   "cell_type": "code",
   "execution_count": 200,
   "metadata": {},
   "outputs": [],
   "source": [
    "# Check if strings in HR\n",
    "strings = [x for x in df_clean['RR'] if type(x) is str]"
   ]
  },
  {
   "cell_type": "code",
   "execution_count": 201,
   "metadata": {},
   "outputs": [
    {
     "data": {
      "text/plain": [
       "22"
      ]
     },
     "execution_count": 201,
     "metadata": {},
     "output_type": "execute_result"
    }
   ],
   "source": [
    "len(strings)"
   ]
  },
  {
   "cell_type": "code",
   "execution_count": 202,
   "metadata": {},
   "outputs": [],
   "source": [
    "#Changing weird '__' to nan\n",
    "df_clean['RR'] = df_clean['RR'].replace({'__':np.nan})"
   ]
  },
  {
   "cell_type": "code",
   "execution_count": 203,
   "metadata": {},
   "outputs": [
    {
     "data": {
      "image/png": "[encoded data removed]",
      "text/plain": [
       "<Figure size 640x480 with 1 Axes>"
      ]
     },
     "metadata": {},
     "output_type": "display_data"
    }
   ],
   "source": [
    "sns.distplot(df_clean['RR'].dropna());"
   ]
  },
  {
   "cell_type": "markdown",
   "metadata": {},
   "source": [
    "**BT** refers to body temperature"
   ]
  },
  {
   "cell_type": "code",
   "execution_count": 204,
   "metadata": {},
   "outputs": [],
   "source": [
    "# Check if strings in HR\n",
    "strings = [x for x in df_clean['BT'] if type(x) is str]"
   ]
  },
  {
   "cell_type": "code",
   "execution_count": 205,
   "metadata": {},
   "outputs": [
    {
     "data": {
      "text/plain": [
       "18"
      ]
     },
     "execution_count": 205,
     "metadata": {},
     "output_type": "execute_result"
    }
   ],
   "source": [
    "len(strings)"
   ]
  },
  {
   "cell_type": "code",
   "execution_count": 206,
   "metadata": {},
   "outputs": [],
   "source": [
    "#Changing weird '__' to nan\n",
    "df_clean['BT'] = df_clean['BT'].replace({'__':np.nan})"
   ]
  },
  {
   "cell_type": "code",
   "execution_count": 207,
   "metadata": {},
   "outputs": [
    {
     "data": {
      "image/png": "[encoded data removed]",
      "text/plain": [
       "<Figure size 640x480 with 1 Axes>"
      ]
     },
     "metadata": {},
     "output_type": "display_data"
    }
   ],
   "source": [
    "sns.distplot(df_clean['BT'].dropna());"
   ]
  },
  {
   "cell_type": "markdown",
   "metadata": {},
   "source": [
    "**Saturation** refers to Saturation to use pulse oxmeter\n",
    "\n",
    "Many nans"
   ]
  },
  {
   "cell_type": "code",
   "execution_count": 208,
   "metadata": {},
   "outputs": [],
   "source": [
    "df_clean = df_clean.rename(columns = {'Saturation':'saturation'})"
   ]
  },
  {
   "cell_type": "code",
   "execution_count": 209,
   "metadata": {},
   "outputs": [],
   "source": [
    "# Check if strings in HR\n",
    "strings = [x for x in df_clean['saturation'] if type(x) is str]"
   ]
  },
  {
   "cell_type": "code",
   "execution_count": 210,
   "metadata": {},
   "outputs": [
    {
     "data": {
      "text/plain": [
       "9"
      ]
     },
     "execution_count": 210,
     "metadata": {},
     "output_type": "execute_result"
    }
   ],
   "source": [
    "len(strings)"
   ]
  },
  {
   "cell_type": "code",
   "execution_count": 211,
   "metadata": {},
   "outputs": [],
   "source": [
    "#Changing weird '__' to nan\n",
    "df_clean['saturation'] = df_clean['saturation'].replace({'__':np.nan})"
   ]
  },
  {
   "cell_type": "code",
   "execution_count": 212,
   "metadata": {},
   "outputs": [
    {
     "data": {
      "text/plain": [
       "<matplotlib.axes._subplots.AxesSubplot at 0x1a25578eb8>"
      ]
     },
     "execution_count": 212,
     "metadata": {},
     "output_type": "execute_result"
    },
    {
     "data": {
      "image/png": "[encoded data removed]",
      "text/plain": [
       "<Figure size 640x480 with 1 Axes>"
      ]
     },
     "metadata": {},
     "output_type": "display_data"
    }
   ],
   "source": [
    "sns.distplot(df_clean['saturation'].dropna())"
   ]
  },
  {
   "cell_type": "markdown",
   "metadata": {},
   "source": [
    "**KTAS_RN** refers to the triage score an rn nurse gave? I think they're grouping it by expert and novice triage person\n",
    "\n",
    "KTAS result of nuses in ED\n",
    "\n",
    "Ok I believe this one is the nurse on the fly rating it, and the KTAS expert is informed by multiple opinions and considered \"true\"\n",
    "\n",
    "1: most severe, 5: least "
   ]
  },
  {
   "cell_type": "markdown",
   "metadata": {},
   "source": [
    "\"Three triage experts, a certified emergency nurse, a KTAS provider and instructor, and a nurse recommended based on excellent emergency department experience and competence determined the true KTAS. Triage accuracy was evaluated by inter-rater agreement between the expert and emergency nurse KTAS scores.\""
   ]
  },
  {
   "cell_type": "code",
   "execution_count": 213,
   "metadata": {},
   "outputs": [
    {
     "data": {
      "text/plain": [
       "<matplotlib.axes._subplots.AxesSubplot at 0x1a253b0588>"
      ]
     },
     "execution_count": 213,
     "metadata": {},
     "output_type": "execute_result"
    },
    {
     "data": {
      "image/png": "[encoded data removed]",
      "text/plain": [
       "<Figure size 640x480 with 1 Axes>"
      ]
     },
     "metadata": {},
     "output_type": "display_data"
    }
   ],
   "source": [
    "sns.countplot(df_clean['KTAS_RN'])"
   ]
  },
  {
   "cell_type": "markdown",
   "metadata": {},
   "source": [
    "**Diagnosis in ED** refers to the diagnosis. No description available on feature, but this is what I presume. Changing to **diagnosis**"
   ]
  },
  {
   "cell_type": "code",
   "execution_count": 214,
   "metadata": {},
   "outputs": [],
   "source": [
    "df_clean = df_clean.rename(columns = {'Diagnosis in ED':'diagnosis'})"
   ]
  },
  {
   "cell_type": "markdown",
   "metadata": {},
   "source": [
    "**Disposition** refers to the result of triage. Changing to **result**\n",
    "\n",
    "'1: Discharge / 2: Ward admission / 3: ICU admission / 4: AMA discharge / 5: Transfer / 6: Death / 7: OP fom ED\n",
    "\n",
    "AMA = against medical advice\n",
    "\n",
    "OP = Operation?\n",
    "\n",
    "Ward = general ward = normal room/ not icu"
   ]
  },
  {
   "cell_type": "code",
   "execution_count": 215,
   "metadata": {},
   "outputs": [],
   "source": [
    "df_clean = df_clean.rename(columns = {'Disposition':'result'})\n",
    "df_clean['result'] = df_clean['result'].replace({1: 'discharge', 2:'ward', 3:'icu', 4:'ama_discharge',\n",
    "                                                5:'transfer',6:'death',7:'op'})"
   ]
  },
  {
   "cell_type": "code",
   "execution_count": 216,
   "metadata": {},
   "outputs": [
    {
     "data": {
      "image/png": "[encoded data removed]",
      "text/plain": [
       "<Figure size 640x480 with 1 Axes>"
      ]
     },
     "metadata": {},
     "output_type": "display_data"
    }
   ],
   "source": [
    "plt.rcdefaults()\n",
    "fig, ax = plt.subplots()\n",
    "\n",
    "y_labels = df_clean['result'].dropna().value_counts().index\n",
    "y_pos = np.arange(len(y_labels))\n",
    "x = df_clean['result'].value_counts()\n",
    "\n",
    "ax.barh(y_pos, x, align='center')\n",
    "ax.set_yticks(y_pos)\n",
    "ax.set_yticklabels(y_labels)\n",
    "ax.invert_yaxis()  # labels read top-to-bottom\n",
    "ax.set_xlabel('Count')\n",
    "ax.set_title('Count Plot Result');"
   ]
  },
  {
   "cell_type": "markdown",
   "metadata": {},
   "source": [
    "**KTAS_expert** refers to the rating given by the experts for triage\n",
    "\n",
    "KTAS result of experts"
   ]
  },
  {
   "cell_type": "code",
   "execution_count": 217,
   "metadata": {},
   "outputs": [
    {
     "data": {
      "text/plain": [
       "<matplotlib.axes._subplots.AxesSubplot at 0x1a2145f7f0>"
      ]
     },
     "execution_count": 217,
     "metadata": {},
     "output_type": "execute_result"
    },
    {
     "data": {
      "image/png": "[encoded data removed]",
      "text/plain": [
       "<Figure size 640x480 with 1 Axes>"
      ]
     },
     "metadata": {},
     "output_type": "display_data"
    }
   ],
   "source": [
    "sns.countplot(df_clean['KTAS_expert'])"
   ]
  },
  {
   "cell_type": "markdown",
   "metadata": {},
   "source": [
    "**Error_group** refers to the experts analysis of why the triage was wrong\n",
    "\n",
    "\"The comments of the experts were analyzed to evaluate the cause of triage error\"\n",
    "\n",
    "1: Vital sign / 2: Physical exam / 3: Psychatric /4: Pain / 5: Mental / 6: Underlying disease / 7: Medical records of other ED / 8: On set / 9: Others"
   ]
  },
  {
   "cell_type": "code",
   "execution_count": 218,
   "metadata": {},
   "outputs": [
    {
     "data": {
      "text/plain": [
       "<matplotlib.axes._subplots.AxesSubplot at 0x1a23974240>"
      ]
     },
     "execution_count": 218,
     "metadata": {},
     "output_type": "execute_result"
    },
    {
     "data": {
      "image/png": "[encoded data removed]",
      "text/plain": [
       "<Figure size 640x480 with 1 Axes>"
      ]
     },
     "metadata": {},
     "output_type": "display_data"
    }
   ],
   "source": [
    "sns.countplot(df_clean['Error_group'])"
   ]
  },
  {
   "cell_type": "code",
   "execution_count": 219,
   "metadata": {},
   "outputs": [],
   "source": [
    "df_clean = df_clean.rename(columns = {'Error_group':'error_code'})\n",
    "df_clean['error_code'] = df_clean['error_code'].replace({1: 'vital_sign', 2:'physical_exam', 3:'psychiatric', \n",
    "                                                 4:'pain', 5:'mental',6:'underlying',7:'med_record',\n",
    "                                                8:'on_set', 9:'other', 0:'no_error'})"
   ]
  },
  {
   "cell_type": "code",
   "execution_count": 220,
   "metadata": {},
   "outputs": [
    {
     "data": {
      "text/plain": [
       "array(['physical_exam', 'pain', 'underlying', 'on_set', 'vital_sign',\n",
       "       'mental', 'med_record', 'psychiatric', 'other', 'no_error'],\n",
       "      dtype=object)"
      ]
     },
     "execution_count": 220,
     "metadata": {},
     "output_type": "execute_result"
    }
   ],
   "source": [
    "df_clean['error_code'].unique()"
   ]
  },
  {
   "cell_type": "code",
   "execution_count": 221,
   "metadata": {},
   "outputs": [
    {
     "data": {
      "image/png": "[encoded data removed]",
      "text/plain": [
       "<Figure size 640x480 with 1 Axes>"
      ]
     },
     "metadata": {},
     "output_type": "display_data"
    }
   ],
   "source": [
    "plt.rcdefaults()\n",
    "fig, ax = plt.subplots()\n",
    "\n",
    "y_labels = df_clean['error_code'].value_counts().index\n",
    "y_pos = np.arange(len(y_labels))\n",
    "x = df_clean['error_code'].value_counts()\n",
    "\n",
    "ax.barh(y_pos, x, align='center')\n",
    "ax.set_yticks(y_pos)\n",
    "ax.set_yticklabels(y_labels)\n",
    "ax.invert_yaxis()  # labels read top-to-bottom\n",
    "ax.set_xlabel('Count')\n",
    "ax.set_title('Count Plot Error Code');"
   ]
  },
  {
   "cell_type": "markdown",
   "metadata": {},
   "source": [
    "**Length of stay_min** refers to the length of stay in min. Change to **stay_min**\n",
    "\n",
    "Length of stay (minutes)\n",
    "\n",
    "Skewed as hell"
   ]
  },
  {
   "cell_type": "code",
   "execution_count": 222,
   "metadata": {},
   "outputs": [],
   "source": [
    "df_clean = df_clean.rename(columns = {'Length of stay_min':'stay_min'})"
   ]
  },
  {
   "cell_type": "code",
   "execution_count": 223,
   "metadata": {},
   "outputs": [
    {
     "data": {
      "image/png": "[encoded data removed]",
      "text/plain": [
       "<Figure size 640x480 with 1 Axes>"
      ]
     },
     "metadata": {},
     "output_type": "display_data"
    }
   ],
   "source": [
    "sns.distplot(df_clean['stay_min']);"
   ]
  },
  {
   "cell_type": "markdown",
   "metadata": {},
   "source": [
    "**KTAS duration_min** refers to I think the length of time it took to assess triage? Unclear\n",
    "\n",
    "Changing to **KTAS_duration_min**\n",
    "\n",
    "KTAS duration (minutes)"
   ]
  },
  {
   "cell_type": "code",
   "execution_count": 224,
   "metadata": {},
   "outputs": [],
   "source": [
    "df_clean = df_clean.rename(columns = {'KTAS duration_min':'KTAS_duration_min'})"
   ]
  },
  {
   "cell_type": "code",
   "execution_count": 225,
   "metadata": {},
   "outputs": [
    {
     "data": {
      "text/plain": [
       "<matplotlib.axes._subplots.AxesSubplot at 0x1a21e79c18>"
      ]
     },
     "execution_count": 225,
     "metadata": {},
     "output_type": "execute_result"
    },
    {
     "data": {
      "image/png": "[encoded data removed]",
      "text/plain": [
       "<Figure size 640x480 with 1 Axes>"
      ]
     },
     "metadata": {},
     "output_type": "display_data"
    }
   ],
   "source": [
    "sns.distplot(df_clean['KTAS_duration_min'])"
   ]
  },
  {
   "cell_type": "markdown",
   "metadata": {},
   "source": [
    "**mistriage** refers to the severity of error in nurse triage compared to expert\n",
    "\n",
    "0: Correct / 1: Over triage / 2: Under triage"
   ]
  },
  {
   "cell_type": "code",
   "execution_count": 226,
   "metadata": {},
   "outputs": [
    {
     "data": {
      "text/plain": [
       "<matplotlib.axes._subplots.AxesSubplot at 0x1a25724e10>"
      ]
     },
     "execution_count": 226,
     "metadata": {},
     "output_type": "execute_result"
    },
    {
     "data": {
      "image/png": "[encoded data removed]",
      "text/plain": [
       "<Figure size 640x480 with 1 Axes>"
      ]
     },
     "metadata": {},
     "output_type": "display_data"
    }
   ],
   "source": [
    "sns.countplot(df_clean['mistriage'])"
   ]
  },
  {
   "cell_type": "markdown",
   "metadata": {},
   "source": [
    "Leaving the nulls in here for now until I figure out what to do with these"
   ]
  },
  {
   "cell_type": "code",
   "execution_count": 227,
   "metadata": {},
   "outputs": [],
   "source": [
    "with open('data/df_clean_nulls.pickle', 'wb') as to_write:\n",
    "    pickle.dump(df_clean, to_write)"
   ]
  },
  {
   "cell_type": "markdown",
   "metadata": {},
   "source": [
    "## Looking at some initial correlations"
   ]
  },
  {
   "cell_type": "code",
   "execution_count": 5,
   "metadata": {},
   "outputs": [
    {
     "data": {
      "text/plain": [
       "<matplotlib.axes._subplots.AxesSubplot at 0x1a19a45fd0>"
      ]
     },
     "execution_count": 5,
     "metadata": {},
     "output_type": "execute_result"
    },
    {
     "data": {
      "image/png": "[encoded data removed]",
      "text/plain": [
       "<Figure size 792x648 with 2 Axes>"
      ]
     },
     "metadata": {
      "needs_background": "light"
     },
     "output_type": "display_data"
    }
   ],
   "source": [
    "corr = df_clean.drop(['KTAS_expert', 'DBP'], axis = 1).corr()\n",
    "\n",
    "# Generate a mask for the upper triangle\n",
    "mask = np.zeros_like(corr, dtype=np.bool)\n",
    "mask[np.triu_indices_from(mask)] = True\n",
    "\n",
    "# Set up the matplotlib figure\n",
    "f, ax = plt.subplots(figsize=(11, 9))\n",
    "\n",
    "# Generate a custom diverging colormap\n",
    "cmap = sns.diverging_palette(220, 10, as_cmap=True)\n",
    "\n",
    "# Draw the heatmap with the mask and correct aspect ratio\n",
    "sns.heatmap(corr, mask=mask, cmap=cmap, vmax=.3, center=0,\n",
    "            square=True, linewidths=.5, cbar_kws={\"shrink\": .5})"
   ]
  },
  {
   "cell_type": "markdown",
   "metadata": {},
   "source": [
    "Initially identified correlations:\n",
    "\n",
    "DBP and SBP = diastolic and systolic ---> correlated obviously, maybe could calculate mean arterial pressure? Ask April what to do with this\n",
    "\n",
    "Body Temp and HR seem correlated\n",
    "\n",
    "Mental is highly correlated with KTAS. Could be due to skewed data. If you're not looking good you're **really** not looking good. Also below seems to align with this. Visual interpretation is used to move toward 2.\n",
    "\n",
    "Injury with KTA. Seems true yeah. \n",
    "\n",
    "RR and mental a bit\n",
    "\n"
   ]
  },
  {
   "cell_type": "markdown",
   "metadata": {},
   "source": [
    "## From ESI site guidelines for triage\n",
    "\n",
    "![ESI](pics/esi+algo.png)"
   ]
  },
  {
   "cell_type": "code",
   "execution_count": 5,
   "metadata": {},
   "outputs": [
    {
     "name": "stdout",
     "output_type": "stream",
     "text": [
      "<class 'pandas.core.frame.DataFrame'>\n",
      "RangeIndex: 1267 entries, 0 to 1266\n",
      "Data columns (total 24 columns):\n",
      "hospital             1267 non-null int64\n",
      "sex                  1267 non-null int64\n",
      "age                  1267 non-null int64\n",
      "patient_num_hr       1267 non-null int64\n",
      "arrival_mode         1267 non-null object\n",
      "injury               1267 non-null int64\n",
      "complaint            1267 non-null object\n",
      "mental               1267 non-null int64\n",
      "pain                 1267 non-null int64\n",
      "pain_scale           711 non-null float64\n",
      "SBP                  1242 non-null float64\n",
      "DBP                  1238 non-null float64\n",
      "HR                   1247 non-null float64\n",
      "RR                   1245 non-null float64\n",
      "BT                   1249 non-null float64\n",
      "saturation           570 non-null float64\n",
      "KTAS_RN              1267 non-null int64\n",
      "diagnosis            1265 non-null object\n",
      "result               1267 non-null object\n",
      "KTAS_expert          1267 non-null int64\n",
      "error_code           1267 non-null object\n",
      "stay_min             1267 non-null int64\n",
      "KTAS_duration_min    1267 non-null float64\n",
      "mistriage            1267 non-null int64\n",
      "dtypes: float64(8), int64(11), object(5)\n",
      "memory usage: 237.6+ KB\n"
     ]
    }
   ],
   "source": [
    "df_clean.info()"
   ]
  },
  {
   "cell_type": "markdown",
   "metadata": {},
   "source": [
    "I think one thing that can be done for saturation is to just assume normal sat for those without values"
   ]
  },
  {
   "cell_type": "code",
   "execution_count": 4,
   "metadata": {},
   "outputs": [
    {
     "data": {
      "text/html": [
       "<div>\n",
       "<style scoped>\n",
       "    .dataframe tbody tr th:only-of-type {\n",
       "        vertical-align: middle;\n",
       "    }\n",
       "\n",
       "    .dataframe tbody tr th {\n",
       "        vertical-align: top;\n",
       "    }\n",
       "\n",
       "    .dataframe thead th {\n",
       "        text-align: right;\n",
       "    }\n",
       "</style>\n",
       "<table border=\"1\" class=\"dataframe\">\n",
       "  <thead>\n",
       "    <tr style=\"text-align: right;\">\n",
       "      <th></th>\n",
       "      <th>hospital</th>\n",
       "      <th>sex</th>\n",
       "      <th>age</th>\n",
       "      <th>patient_num_hr</th>\n",
       "      <th>injury</th>\n",
       "      <th>mental</th>\n",
       "      <th>pain</th>\n",
       "      <th>pain_scale</th>\n",
       "      <th>SBP</th>\n",
       "      <th>DBP</th>\n",
       "      <th>HR</th>\n",
       "      <th>RR</th>\n",
       "      <th>BT</th>\n",
       "      <th>KTAS_RN</th>\n",
       "      <th>KTAS_expert</th>\n",
       "      <th>stay_min</th>\n",
       "      <th>KTAS_duration_min</th>\n",
       "      <th>mistriage</th>\n",
       "    </tr>\n",
       "    <tr>\n",
       "      <th>saturation</th>\n",
       "      <th></th>\n",
       "      <th></th>\n",
       "      <th></th>\n",
       "      <th></th>\n",
       "      <th></th>\n",
       "      <th></th>\n",
       "      <th></th>\n",
       "      <th></th>\n",
       "      <th></th>\n",
       "      <th></th>\n",
       "      <th></th>\n",
       "      <th></th>\n",
       "      <th></th>\n",
       "      <th></th>\n",
       "      <th></th>\n",
       "      <th></th>\n",
       "      <th></th>\n",
       "      <th></th>\n",
       "    </tr>\n",
       "  </thead>\n",
       "  <tbody>\n",
       "    <tr>\n",
       "      <td>20.0</td>\n",
       "      <td>1.0</td>\n",
       "      <td>1.000000</td>\n",
       "      <td>77.000000</td>\n",
       "      <td>7.000000</td>\n",
       "      <td>0.000000</td>\n",
       "      <td>1.000000</td>\n",
       "      <td>0.0</td>\n",
       "      <td>NaN</td>\n",
       "      <td>130.000000</td>\n",
       "      <td>80.000000</td>\n",
       "      <td>56.000000</td>\n",
       "      <td>20.000000</td>\n",
       "      <td>36.200000</td>\n",
       "      <td>3.000000</td>\n",
       "      <td>3.000000</td>\n",
       "      <td>8258.000000</td>\n",
       "      <td>1.000000</td>\n",
       "      <td>0.000000</td>\n",
       "    </tr>\n",
       "    <tr>\n",
       "      <td>68.0</td>\n",
       "      <td>1.0</td>\n",
       "      <td>1.000000</td>\n",
       "      <td>82.000000</td>\n",
       "      <td>6.000000</td>\n",
       "      <td>0.000000</td>\n",
       "      <td>1.000000</td>\n",
       "      <td>0.0</td>\n",
       "      <td>NaN</td>\n",
       "      <td>150.000000</td>\n",
       "      <td>100.000000</td>\n",
       "      <td>116.000000</td>\n",
       "      <td>26.000000</td>\n",
       "      <td>37.000000</td>\n",
       "      <td>2.000000</td>\n",
       "      <td>1.000000</td>\n",
       "      <td>9270.000000</td>\n",
       "      <td>2.000000</td>\n",
       "      <td>2.000000</td>\n",
       "    </tr>\n",
       "    <tr>\n",
       "      <td>74.0</td>\n",
       "      <td>1.0</td>\n",
       "      <td>0.000000</td>\n",
       "      <td>79.000000</td>\n",
       "      <td>8.000000</td>\n",
       "      <td>0.000000</td>\n",
       "      <td>1.000000</td>\n",
       "      <td>0.0</td>\n",
       "      <td>NaN</td>\n",
       "      <td>130.000000</td>\n",
       "      <td>80.000000</td>\n",
       "      <td>60.000000</td>\n",
       "      <td>24.000000</td>\n",
       "      <td>36.400000</td>\n",
       "      <td>2.000000</td>\n",
       "      <td>2.000000</td>\n",
       "      <td>9378.000000</td>\n",
       "      <td>5.000000</td>\n",
       "      <td>0.000000</td>\n",
       "    </tr>\n",
       "    <tr>\n",
       "      <td>76.0</td>\n",
       "      <td>1.0</td>\n",
       "      <td>1.000000</td>\n",
       "      <td>80.000000</td>\n",
       "      <td>10.000000</td>\n",
       "      <td>0.000000</td>\n",
       "      <td>1.000000</td>\n",
       "      <td>0.0</td>\n",
       "      <td>3.000000</td>\n",
       "      <td>120.000000</td>\n",
       "      <td>80.000000</td>\n",
       "      <td>118.000000</td>\n",
       "      <td>20.000000</td>\n",
       "      <td>36.000000</td>\n",
       "      <td>2.000000</td>\n",
       "      <td>2.000000</td>\n",
       "      <td>9984.000000</td>\n",
       "      <td>4.000000</td>\n",
       "      <td>0.000000</td>\n",
       "    </tr>\n",
       "    <tr>\n",
       "      <td>78.0</td>\n",
       "      <td>1.0</td>\n",
       "      <td>0.000000</td>\n",
       "      <td>70.000000</td>\n",
       "      <td>8.000000</td>\n",
       "      <td>0.000000</td>\n",
       "      <td>2.000000</td>\n",
       "      <td>0.0</td>\n",
       "      <td>3.000000</td>\n",
       "      <td>NaN</td>\n",
       "      <td>NaN</td>\n",
       "      <td>96.000000</td>\n",
       "      <td>22.000000</td>\n",
       "      <td>36.300000</td>\n",
       "      <td>2.000000</td>\n",
       "      <td>1.000000</td>\n",
       "      <td>593.000000</td>\n",
       "      <td>2.000000</td>\n",
       "      <td>2.000000</td>\n",
       "    </tr>\n",
       "    <tr>\n",
       "      <td>80.0</td>\n",
       "      <td>1.0</td>\n",
       "      <td>0.000000</td>\n",
       "      <td>54.000000</td>\n",
       "      <td>3.000000</td>\n",
       "      <td>0.000000</td>\n",
       "      <td>1.000000</td>\n",
       "      <td>0.0</td>\n",
       "      <td>NaN</td>\n",
       "      <td>180.000000</td>\n",
       "      <td>100.000000</td>\n",
       "      <td>108.000000</td>\n",
       "      <td>24.000000</td>\n",
       "      <td>36.600000</td>\n",
       "      <td>3.000000</td>\n",
       "      <td>3.000000</td>\n",
       "      <td>10895.000000</td>\n",
       "      <td>4.000000</td>\n",
       "      <td>0.000000</td>\n",
       "    </tr>\n",
       "    <tr>\n",
       "      <td>85.0</td>\n",
       "      <td>1.0</td>\n",
       "      <td>1.000000</td>\n",
       "      <td>22.000000</td>\n",
       "      <td>10.000000</td>\n",
       "      <td>0.000000</td>\n",
       "      <td>3.000000</td>\n",
       "      <td>0.0</td>\n",
       "      <td>NaN</td>\n",
       "      <td>100.000000</td>\n",
       "      <td>60.000000</td>\n",
       "      <td>98.000000</td>\n",
       "      <td>24.000000</td>\n",
       "      <td>37.600000</td>\n",
       "      <td>2.000000</td>\n",
       "      <td>2.000000</td>\n",
       "      <td>8703.000000</td>\n",
       "      <td>4.000000</td>\n",
       "      <td>0.000000</td>\n",
       "    </tr>\n",
       "    <tr>\n",
       "      <td>86.0</td>\n",
       "      <td>1.0</td>\n",
       "      <td>0.500000</td>\n",
       "      <td>45.000000</td>\n",
       "      <td>5.500000</td>\n",
       "      <td>0.000000</td>\n",
       "      <td>3.500000</td>\n",
       "      <td>0.0</td>\n",
       "      <td>NaN</td>\n",
       "      <td>70.000000</td>\n",
       "      <td>50.000000</td>\n",
       "      <td>72.000000</td>\n",
       "      <td>20.000000</td>\n",
       "      <td>36.250000</td>\n",
       "      <td>1.500000</td>\n",
       "      <td>1.500000</td>\n",
       "      <td>455.000000</td>\n",
       "      <td>5.000000</td>\n",
       "      <td>0.000000</td>\n",
       "    </tr>\n",
       "    <tr>\n",
       "      <td>88.0</td>\n",
       "      <td>1.0</td>\n",
       "      <td>0.500000</td>\n",
       "      <td>80.500000</td>\n",
       "      <td>7.000000</td>\n",
       "      <td>0.000000</td>\n",
       "      <td>1.000000</td>\n",
       "      <td>0.0</td>\n",
       "      <td>NaN</td>\n",
       "      <td>155.000000</td>\n",
       "      <td>95.000000</td>\n",
       "      <td>93.000000</td>\n",
       "      <td>23.000000</td>\n",
       "      <td>36.400000</td>\n",
       "      <td>2.500000</td>\n",
       "      <td>2.000000</td>\n",
       "      <td>349727.000000</td>\n",
       "      <td>3.000000</td>\n",
       "      <td>1.000000</td>\n",
       "    </tr>\n",
       "    <tr>\n",
       "      <td>89.0</td>\n",
       "      <td>1.0</td>\n",
       "      <td>1.000000</td>\n",
       "      <td>73.000000</td>\n",
       "      <td>8.000000</td>\n",
       "      <td>0.000000</td>\n",
       "      <td>1.000000</td>\n",
       "      <td>0.0</td>\n",
       "      <td>NaN</td>\n",
       "      <td>140.000000</td>\n",
       "      <td>80.000000</td>\n",
       "      <td>86.000000</td>\n",
       "      <td>24.000000</td>\n",
       "      <td>36.400000</td>\n",
       "      <td>3.000000</td>\n",
       "      <td>2.000000</td>\n",
       "      <td>518.000000</td>\n",
       "      <td>2.000000</td>\n",
       "      <td>2.000000</td>\n",
       "    </tr>\n",
       "    <tr>\n",
       "      <td>90.0</td>\n",
       "      <td>1.0</td>\n",
       "      <td>0.666667</td>\n",
       "      <td>71.166667</td>\n",
       "      <td>7.166667</td>\n",
       "      <td>0.166667</td>\n",
       "      <td>1.666667</td>\n",
       "      <td>0.0</td>\n",
       "      <td>3.000000</td>\n",
       "      <td>118.333333</td>\n",
       "      <td>71.666667</td>\n",
       "      <td>91.333333</td>\n",
       "      <td>20.400000</td>\n",
       "      <td>36.300000</td>\n",
       "      <td>2.166667</td>\n",
       "      <td>2.166667</td>\n",
       "      <td>5251.000000</td>\n",
       "      <td>3.833333</td>\n",
       "      <td>0.000000</td>\n",
       "    </tr>\n",
       "    <tr>\n",
       "      <td>91.0</td>\n",
       "      <td>1.0</td>\n",
       "      <td>0.666667</td>\n",
       "      <td>78.333333</td>\n",
       "      <td>9.000000</td>\n",
       "      <td>0.000000</td>\n",
       "      <td>1.000000</td>\n",
       "      <td>0.0</td>\n",
       "      <td>3.000000</td>\n",
       "      <td>80.000000</td>\n",
       "      <td>60.000000</td>\n",
       "      <td>82.000000</td>\n",
       "      <td>20.000000</td>\n",
       "      <td>36.433333</td>\n",
       "      <td>2.333333</td>\n",
       "      <td>2.333333</td>\n",
       "      <td>10421.333333</td>\n",
       "      <td>2.000000</td>\n",
       "      <td>0.000000</td>\n",
       "    </tr>\n",
       "    <tr>\n",
       "      <td>92.0</td>\n",
       "      <td>1.0</td>\n",
       "      <td>1.000000</td>\n",
       "      <td>56.000000</td>\n",
       "      <td>8.000000</td>\n",
       "      <td>0.000000</td>\n",
       "      <td>1.400000</td>\n",
       "      <td>0.0</td>\n",
       "      <td>NaN</td>\n",
       "      <td>124.000000</td>\n",
       "      <td>78.000000</td>\n",
       "      <td>101.200000</td>\n",
       "      <td>20.800000</td>\n",
       "      <td>36.460000</td>\n",
       "      <td>2.800000</td>\n",
       "      <td>2.600000</td>\n",
       "      <td>143447.600000</td>\n",
       "      <td>2.800000</td>\n",
       "      <td>0.400000</td>\n",
       "    </tr>\n",
       "    <tr>\n",
       "      <td>93.0</td>\n",
       "      <td>1.0</td>\n",
       "      <td>0.333333</td>\n",
       "      <td>78.333333</td>\n",
       "      <td>7.500000</td>\n",
       "      <td>0.000000</td>\n",
       "      <td>1.000000</td>\n",
       "      <td>0.0</td>\n",
       "      <td>3.250000</td>\n",
       "      <td>115.000000</td>\n",
       "      <td>73.333333</td>\n",
       "      <td>95.166667</td>\n",
       "      <td>21.666667</td>\n",
       "      <td>36.650000</td>\n",
       "      <td>2.833333</td>\n",
       "      <td>2.833333</td>\n",
       "      <td>3526.666667</td>\n",
       "      <td>3.333333</td>\n",
       "      <td>0.000000</td>\n",
       "    </tr>\n",
       "    <tr>\n",
       "      <td>94.0</td>\n",
       "      <td>1.0</td>\n",
       "      <td>0.666667</td>\n",
       "      <td>67.866667</td>\n",
       "      <td>7.266667</td>\n",
       "      <td>0.333333</td>\n",
       "      <td>1.266667</td>\n",
       "      <td>0.0</td>\n",
       "      <td>4.333333</td>\n",
       "      <td>113.333333</td>\n",
       "      <td>75.714286</td>\n",
       "      <td>83.400000</td>\n",
       "      <td>21.333333</td>\n",
       "      <td>36.293333</td>\n",
       "      <td>2.800000</td>\n",
       "      <td>2.533333</td>\n",
       "      <td>4356.666667</td>\n",
       "      <td>2.866667</td>\n",
       "      <td>0.400000</td>\n",
       "    </tr>\n",
       "    <tr>\n",
       "      <td>95.0</td>\n",
       "      <td>1.0</td>\n",
       "      <td>0.600000</td>\n",
       "      <td>73.960000</td>\n",
       "      <td>7.000000</td>\n",
       "      <td>0.160000</td>\n",
       "      <td>1.280000</td>\n",
       "      <td>0.0</td>\n",
       "      <td>3.916667</td>\n",
       "      <td>121.250000</td>\n",
       "      <td>76.250000</td>\n",
       "      <td>77.040000</td>\n",
       "      <td>20.416667</td>\n",
       "      <td>36.336000</td>\n",
       "      <td>2.760000</td>\n",
       "      <td>2.720000</td>\n",
       "      <td>3305.400000</td>\n",
       "      <td>3.040000</td>\n",
       "      <td>0.240000</td>\n",
       "    </tr>\n",
       "    <tr>\n",
       "      <td>96.0</td>\n",
       "      <td>1.0</td>\n",
       "      <td>0.458333</td>\n",
       "      <td>63.666667</td>\n",
       "      <td>7.479167</td>\n",
       "      <td>0.187500</td>\n",
       "      <td>1.041667</td>\n",
       "      <td>0.0</td>\n",
       "      <td>3.866667</td>\n",
       "      <td>126.170213</td>\n",
       "      <td>78.297872</td>\n",
       "      <td>80.395833</td>\n",
       "      <td>20.208333</td>\n",
       "      <td>36.475000</td>\n",
       "      <td>3.083333</td>\n",
       "      <td>3.000000</td>\n",
       "      <td>3736.062500</td>\n",
       "      <td>2.916667</td>\n",
       "      <td>0.166667</td>\n",
       "    </tr>\n",
       "    <tr>\n",
       "      <td>97.0</td>\n",
       "      <td>1.0</td>\n",
       "      <td>0.593407</td>\n",
       "      <td>60.538462</td>\n",
       "      <td>7.351648</td>\n",
       "      <td>0.219780</td>\n",
       "      <td>1.032967</td>\n",
       "      <td>0.0</td>\n",
       "      <td>4.000000</td>\n",
       "      <td>124.395604</td>\n",
       "      <td>78.111111</td>\n",
       "      <td>82.340659</td>\n",
       "      <td>20.000000</td>\n",
       "      <td>36.498901</td>\n",
       "      <td>3.406593</td>\n",
       "      <td>3.307692</td>\n",
       "      <td>42013.241758</td>\n",
       "      <td>3.098901</td>\n",
       "      <td>0.285714</td>\n",
       "    </tr>\n",
       "    <tr>\n",
       "      <td>98.0</td>\n",
       "      <td>1.0</td>\n",
       "      <td>0.473684</td>\n",
       "      <td>52.657895</td>\n",
       "      <td>6.850877</td>\n",
       "      <td>0.188596</td>\n",
       "      <td>1.017544</td>\n",
       "      <td>0.0</td>\n",
       "      <td>3.842466</td>\n",
       "      <td>124.473684</td>\n",
       "      <td>77.807018</td>\n",
       "      <td>82.600877</td>\n",
       "      <td>20.131579</td>\n",
       "      <td>36.446053</td>\n",
       "      <td>3.320175</td>\n",
       "      <td>3.254386</td>\n",
       "      <td>24342.776316</td>\n",
       "      <td>3.087719</td>\n",
       "      <td>0.302632</td>\n",
       "    </tr>\n",
       "    <tr>\n",
       "      <td>99.0</td>\n",
       "      <td>1.0</td>\n",
       "      <td>0.550459</td>\n",
       "      <td>54.431193</td>\n",
       "      <td>7.550459</td>\n",
       "      <td>0.155963</td>\n",
       "      <td>1.055046</td>\n",
       "      <td>0.0</td>\n",
       "      <td>3.883333</td>\n",
       "      <td>128.256881</td>\n",
       "      <td>79.908257</td>\n",
       "      <td>81.266055</td>\n",
       "      <td>20.166667</td>\n",
       "      <td>36.413761</td>\n",
       "      <td>3.192661</td>\n",
       "      <td>3.045872</td>\n",
       "      <td>22145.816514</td>\n",
       "      <td>2.972477</td>\n",
       "      <td>0.302752</td>\n",
       "    </tr>\n",
       "    <tr>\n",
       "      <td>100.0</td>\n",
       "      <td>1.0</td>\n",
       "      <td>0.363636</td>\n",
       "      <td>54.272727</td>\n",
       "      <td>7.000000</td>\n",
       "      <td>0.136364</td>\n",
       "      <td>1.000000</td>\n",
       "      <td>0.0</td>\n",
       "      <td>4.062500</td>\n",
       "      <td>125.909091</td>\n",
       "      <td>78.000000</td>\n",
       "      <td>80.045455</td>\n",
       "      <td>20.363636</td>\n",
       "      <td>36.359091</td>\n",
       "      <td>3.136364</td>\n",
       "      <td>3.000000</td>\n",
       "      <td>4644.318182</td>\n",
       "      <td>3.272727</td>\n",
       "      <td>0.409091</td>\n",
       "    </tr>\n",
       "  </tbody>\n",
       "</table>\n",
       "</div>"
      ],
      "text/plain": [
       "            hospital       sex        age  patient_num_hr    injury    mental  \\\n",
       "saturation                                                                      \n",
       "20.0             1.0  1.000000  77.000000        7.000000  0.000000  1.000000   \n",
       "68.0             1.0  1.000000  82.000000        6.000000  0.000000  1.000000   \n",
       "74.0             1.0  0.000000  79.000000        8.000000  0.000000  1.000000   \n",
       "76.0             1.0  1.000000  80.000000       10.000000  0.000000  1.000000   \n",
       "78.0             1.0  0.000000  70.000000        8.000000  0.000000  2.000000   \n",
       "80.0             1.0  0.000000  54.000000        3.000000  0.000000  1.000000   \n",
       "85.0             1.0  1.000000  22.000000       10.000000  0.000000  3.000000   \n",
       "86.0             1.0  0.500000  45.000000        5.500000  0.000000  3.500000   \n",
       "88.0             1.0  0.500000  80.500000        7.000000  0.000000  1.000000   \n",
       "89.0             1.0  1.000000  73.000000        8.000000  0.000000  1.000000   \n",
       "90.0             1.0  0.666667  71.166667        7.166667  0.166667  1.666667   \n",
       "91.0             1.0  0.666667  78.333333        9.000000  0.000000  1.000000   \n",
       "92.0             1.0  1.000000  56.000000        8.000000  0.000000  1.400000   \n",
       "93.0             1.0  0.333333  78.333333        7.500000  0.000000  1.000000   \n",
       "94.0             1.0  0.666667  67.866667        7.266667  0.333333  1.266667   \n",
       "95.0             1.0  0.600000  73.960000        7.000000  0.160000  1.280000   \n",
       "96.0             1.0  0.458333  63.666667        7.479167  0.187500  1.041667   \n",
       "97.0             1.0  0.593407  60.538462        7.351648  0.219780  1.032967   \n",
       "98.0             1.0  0.473684  52.657895        6.850877  0.188596  1.017544   \n",
       "99.0             1.0  0.550459  54.431193        7.550459  0.155963  1.055046   \n",
       "100.0            1.0  0.363636  54.272727        7.000000  0.136364  1.000000   \n",
       "\n",
       "            pain  pain_scale         SBP         DBP          HR         RR  \\\n",
       "saturation                                                                    \n",
       "20.0         0.0         NaN  130.000000   80.000000   56.000000  20.000000   \n",
       "68.0         0.0         NaN  150.000000  100.000000  116.000000  26.000000   \n",
       "74.0         0.0         NaN  130.000000   80.000000   60.000000  24.000000   \n",
       "76.0         0.0    3.000000  120.000000   80.000000  118.000000  20.000000   \n",
       "78.0         0.0    3.000000         NaN         NaN   96.000000  22.000000   \n",
       "80.0         0.0         NaN  180.000000  100.000000  108.000000  24.000000   \n",
       "85.0         0.0         NaN  100.000000   60.000000   98.000000  24.000000   \n",
       "86.0         0.0         NaN   70.000000   50.000000   72.000000  20.000000   \n",
       "88.0         0.0         NaN  155.000000   95.000000   93.000000  23.000000   \n",
       "89.0         0.0         NaN  140.000000   80.000000   86.000000  24.000000   \n",
       "90.0         0.0    3.000000  118.333333   71.666667   91.333333  20.400000   \n",
       "91.0         0.0    3.000000   80.000000   60.000000   82.000000  20.000000   \n",
       "92.0         0.0         NaN  124.000000   78.000000  101.200000  20.800000   \n",
       "93.0         0.0    3.250000  115.000000   73.333333   95.166667  21.666667   \n",
       "94.0         0.0    4.333333  113.333333   75.714286   83.400000  21.333333   \n",
       "95.0         0.0    3.916667  121.250000   76.250000   77.040000  20.416667   \n",
       "96.0         0.0    3.866667  126.170213   78.297872   80.395833  20.208333   \n",
       "97.0         0.0    4.000000  124.395604   78.111111   82.340659  20.000000   \n",
       "98.0         0.0    3.842466  124.473684   77.807018   82.600877  20.131579   \n",
       "99.0         0.0    3.883333  128.256881   79.908257   81.266055  20.166667   \n",
       "100.0        0.0    4.062500  125.909091   78.000000   80.045455  20.363636   \n",
       "\n",
       "                   BT   KTAS_RN  KTAS_expert       stay_min  \\\n",
       "saturation                                                    \n",
       "20.0        36.200000  3.000000     3.000000    8258.000000   \n",
       "68.0        37.000000  2.000000     1.000000    9270.000000   \n",
       "74.0        36.400000  2.000000     2.000000    9378.000000   \n",
       "76.0        36.000000  2.000000     2.000000    9984.000000   \n",
       "78.0        36.300000  2.000000     1.000000     593.000000   \n",
       "80.0        36.600000  3.000000     3.000000   10895.000000   \n",
       "85.0        37.600000  2.000000     2.000000    8703.000000   \n",
       "86.0        36.250000  1.500000     1.500000     455.000000   \n",
       "88.0        36.400000  2.500000     2.000000  349727.000000   \n",
       "89.0        36.400000  3.000000     2.000000     518.000000   \n",
       "90.0        36.300000  2.166667     2.166667    5251.000000   \n",
       "91.0        36.433333  2.333333     2.333333   10421.333333   \n",
       "92.0        36.460000  2.800000     2.600000  143447.600000   \n",
       "93.0        36.650000  2.833333     2.833333    3526.666667   \n",
       "94.0        36.293333  2.800000     2.533333    4356.666667   \n",
       "95.0        36.336000  2.760000     2.720000    3305.400000   \n",
       "96.0        36.475000  3.083333     3.000000    3736.062500   \n",
       "97.0        36.498901  3.406593     3.307692   42013.241758   \n",
       "98.0        36.446053  3.320175     3.254386   24342.776316   \n",
       "99.0        36.413761  3.192661     3.045872   22145.816514   \n",
       "100.0       36.359091  3.136364     3.000000    4644.318182   \n",
       "\n",
       "            KTAS_duration_min  mistriage  \n",
       "saturation                                \n",
       "20.0                 1.000000   0.000000  \n",
       "68.0                 2.000000   2.000000  \n",
       "74.0                 5.000000   0.000000  \n",
       "76.0                 4.000000   0.000000  \n",
       "78.0                 2.000000   2.000000  \n",
       "80.0                 4.000000   0.000000  \n",
       "85.0                 4.000000   0.000000  \n",
       "86.0                 5.000000   0.000000  \n",
       "88.0                 3.000000   1.000000  \n",
       "89.0                 2.000000   2.000000  \n",
       "90.0                 3.833333   0.000000  \n",
       "91.0                 2.000000   0.000000  \n",
       "92.0                 2.800000   0.400000  \n",
       "93.0                 3.333333   0.000000  \n",
       "94.0                 2.866667   0.400000  \n",
       "95.0                 3.040000   0.240000  \n",
       "96.0                 2.916667   0.166667  \n",
       "97.0                 3.098901   0.285714  \n",
       "98.0                 3.087719   0.302632  \n",
       "99.0                 2.972477   0.302752  \n",
       "100.0                3.272727   0.409091  "
      ]
     },
     "execution_count": 4,
     "metadata": {},
     "output_type": "execute_result"
    }
   ],
   "source": [
    "df_clean.groupby('saturation').mean()"
   ]
  },
  {
   "cell_type": "markdown",
   "metadata": {},
   "source": [
    "Looks like all the saturation values are from hospital 1...checking this"
   ]
  },
  {
   "cell_type": "code",
   "execution_count": 5,
   "metadata": {},
   "outputs": [
    {
     "data": {
      "text/html": [
       "<div>\n",
       "<style scoped>\n",
       "    .dataframe tbody tr th:only-of-type {\n",
       "        vertical-align: middle;\n",
       "    }\n",
       "\n",
       "    .dataframe tbody tr th {\n",
       "        vertical-align: top;\n",
       "    }\n",
       "\n",
       "    .dataframe thead th {\n",
       "        text-align: right;\n",
       "    }\n",
       "</style>\n",
       "<table border=\"1\" class=\"dataframe\">\n",
       "  <thead>\n",
       "    <tr style=\"text-align: right;\">\n",
       "      <th></th>\n",
       "      <th>sex</th>\n",
       "      <th>age</th>\n",
       "      <th>patient_num_hr</th>\n",
       "      <th>arrival_mode</th>\n",
       "      <th>injury</th>\n",
       "      <th>complaint</th>\n",
       "      <th>mental</th>\n",
       "      <th>pain</th>\n",
       "      <th>pain_scale</th>\n",
       "      <th>SBP</th>\n",
       "      <th>...</th>\n",
       "      <th>BT</th>\n",
       "      <th>saturation</th>\n",
       "      <th>KTAS_RN</th>\n",
       "      <th>diagnosis</th>\n",
       "      <th>result</th>\n",
       "      <th>KTAS_expert</th>\n",
       "      <th>error_code</th>\n",
       "      <th>stay_min</th>\n",
       "      <th>KTAS_duration_min</th>\n",
       "      <th>mistriage</th>\n",
       "    </tr>\n",
       "    <tr>\n",
       "      <th>hospital</th>\n",
       "      <th></th>\n",
       "      <th></th>\n",
       "      <th></th>\n",
       "      <th></th>\n",
       "      <th></th>\n",
       "      <th></th>\n",
       "      <th></th>\n",
       "      <th></th>\n",
       "      <th></th>\n",
       "      <th></th>\n",
       "      <th></th>\n",
       "      <th></th>\n",
       "      <th></th>\n",
       "      <th></th>\n",
       "      <th></th>\n",
       "      <th></th>\n",
       "      <th></th>\n",
       "      <th></th>\n",
       "      <th></th>\n",
       "      <th></th>\n",
       "      <th></th>\n",
       "    </tr>\n",
       "  </thead>\n",
       "  <tbody>\n",
       "    <tr>\n",
       "      <td>0</td>\n",
       "      <td>688</td>\n",
       "      <td>688</td>\n",
       "      <td>688</td>\n",
       "      <td>688</td>\n",
       "      <td>688</td>\n",
       "      <td>688</td>\n",
       "      <td>688</td>\n",
       "      <td>688</td>\n",
       "      <td>370</td>\n",
       "      <td>670</td>\n",
       "      <td>...</td>\n",
       "      <td>674</td>\n",
       "      <td>0</td>\n",
       "      <td>688</td>\n",
       "      <td>688</td>\n",
       "      <td>688</td>\n",
       "      <td>688</td>\n",
       "      <td>688</td>\n",
       "      <td>688</td>\n",
       "      <td>688</td>\n",
       "      <td>688</td>\n",
       "    </tr>\n",
       "    <tr>\n",
       "      <td>1</td>\n",
       "      <td>579</td>\n",
       "      <td>579</td>\n",
       "      <td>579</td>\n",
       "      <td>579</td>\n",
       "      <td>579</td>\n",
       "      <td>579</td>\n",
       "      <td>579</td>\n",
       "      <td>579</td>\n",
       "      <td>341</td>\n",
       "      <td>572</td>\n",
       "      <td>...</td>\n",
       "      <td>575</td>\n",
       "      <td>570</td>\n",
       "      <td>579</td>\n",
       "      <td>577</td>\n",
       "      <td>579</td>\n",
       "      <td>579</td>\n",
       "      <td>579</td>\n",
       "      <td>579</td>\n",
       "      <td>579</td>\n",
       "      <td>579</td>\n",
       "    </tr>\n",
       "  </tbody>\n",
       "</table>\n",
       "<p>2 rows × 23 columns</p>\n",
       "</div>"
      ],
      "text/plain": [
       "          sex  age  patient_num_hr  arrival_mode  injury  complaint  mental  \\\n",
       "hospital                                                                      \n",
       "0         688  688             688           688     688        688     688   \n",
       "1         579  579             579           579     579        579     579   \n",
       "\n",
       "          pain  pain_scale  SBP  ...   BT  saturation  KTAS_RN  diagnosis  \\\n",
       "hospital                         ...                                        \n",
       "0          688         370  670  ...  674           0      688        688   \n",
       "1          579         341  572  ...  575         570      579        577   \n",
       "\n",
       "          result  KTAS_expert  error_code  stay_min  KTAS_duration_min  \\\n",
       "hospital                                                                 \n",
       "0            688          688         688       688                688   \n",
       "1            579          579         579       579                579   \n",
       "\n",
       "          mistriage  \n",
       "hospital             \n",
       "0               688  \n",
       "1               579  \n",
       "\n",
       "[2 rows x 23 columns]"
      ]
     },
     "execution_count": 5,
     "metadata": {},
     "output_type": "execute_result"
    }
   ],
   "source": [
    "df_clean.groupby('hospital').count()"
   ]
  },
  {
   "cell_type": "markdown",
   "metadata": {},
   "source": [
    "Yep. All saturation values are from hospital 1. This means that assuming normal values for hospital 0 won't work. I'm going to remove saturation as a feature when using all the data and try a model with just hospital 1 to see if it's a good predictor."
   ]
  },
  {
   "cell_type": "markdown",
   "metadata": {},
   "source": [
    "Some vitals are missing. My assumption is that these are for cat 1 triage, because there isn't time."
   ]
  },
  {
   "cell_type": "markdown",
   "metadata": {},
   "source": [
    "<img src=\"pics/9842-blood-pressure-readings-explained-1296x1645-body.20181002181105178.jpg\" width=\"350\">"
   ]
  },
  {
   "cell_type": "markdown",
   "metadata": {},
   "source": [
    "## Let's Deal with the Nulls"
   ]
  },
  {
   "cell_type": "code",
   "execution_count": 259,
   "metadata": {},
   "outputs": [],
   "source": [
    "with open('data/df_clean_nulls.pickle', 'rb') as read_file:\n",
    "    df_clean = pickle.load(read_file)"
   ]
  },
  {
   "cell_type": "code",
   "execution_count": 261,
   "metadata": {},
   "outputs": [
    {
     "data": {
      "text/plain": [
       "36.5"
      ]
     },
     "execution_count": 261,
     "metadata": {},
     "output_type": "execute_result"
    }
   ],
   "source": [
    "df_clean['BT'].median()"
   ]
  },
  {
   "cell_type": "code",
   "execution_count": 262,
   "metadata": {},
   "outputs": [],
   "source": [
    "# Filling BT with median BT (36.5)\n",
    "df_clean['BT'] = df_clean['BT'].fillna(36.5)"
   ]
  },
  {
   "cell_type": "code",
   "execution_count": 263,
   "metadata": {},
   "outputs": [
    {
     "data": {
      "text/plain": [
       "20.0"
      ]
     },
     "execution_count": 263,
     "metadata": {},
     "output_type": "execute_result"
    }
   ],
   "source": [
    "df_clean['RR'].median()"
   ]
  },
  {
   "cell_type": "code",
   "execution_count": 264,
   "metadata": {},
   "outputs": [],
   "source": [
    "# Filling RR with median 20 (a little high) \n",
    "df_clean['RR'] = df_clean['RR'].fillna(20)"
   ]
  },
  {
   "cell_type": "code",
   "execution_count": 265,
   "metadata": {},
   "outputs": [
    {
     "data": {
      "text/plain": [
       "97.77731092436974"
      ]
     },
     "execution_count": 265,
     "metadata": {},
     "output_type": "execute_result"
    }
   ],
   "source": [
    "df_clean.loc[(df_clean['hospital'] == 1) & (df_clean['KTAS_RN'] >=4), 'saturation'].mean()"
   ]
  },
  {
   "cell_type": "code",
   "execution_count": 266,
   "metadata": {},
   "outputs": [
    {
     "data": {
      "text/plain": [
       "96.48493975903614"
      ]
     },
     "execution_count": 266,
     "metadata": {},
     "output_type": "execute_result"
    }
   ],
   "source": [
    "df_clean.loc[(df_clean['hospital'] == 1) & (df_clean['KTAS_RN'] <4), 'saturation'].mean()"
   ]
  },
  {
   "cell_type": "code",
   "execution_count": 267,
   "metadata": {},
   "outputs": [],
   "source": [
    "# Filling saturation for hospital 1 KTAS > 4 with mean\n",
    "df_clean.loc[(df_clean['saturation'].isnull()) & \\\n",
    "                                                   (df_clean['hospital'] == 1) & (df_clean['KTAS_RN'] >= 4),'saturation'] = [98 for x in df_clean.loc[(df_clean['saturation'].isnull()) & \\\n",
    "                                                   (df_clean['hospital'] == 1) & (df_clean['KTAS_RN'] >= 4),'saturation']]"
   ]
  },
  {
   "cell_type": "code",
   "execution_count": 268,
   "metadata": {},
   "outputs": [],
   "source": [
    "# Filling saturation for hospital 1 KTAS < 4 with mean\n",
    "df_clean.loc[(df_clean['saturation'].isnull()) & \\\n",
    "                                                   (df_clean['hospital'] == 1) & (df_clean['KTAS_RN'] < 4),'saturation'] = [96.5 for x in df_clean.loc[(df_clean['saturation'].isnull()) & \\\n",
    "                                                   (df_clean['hospital'] == 1) & (df_clean['KTAS_RN'] < 4),'saturation']]"
   ]
  },
  {
   "cell_type": "code",
   "execution_count": 269,
   "metadata": {},
   "outputs": [
    {
     "data": {
      "text/plain": [
       "83.96311146752205"
      ]
     },
     "execution_count": 269,
     "metadata": {},
     "output_type": "execute_result"
    }
   ],
   "source": [
    "df_clean['HR'].mean()"
   ]
  },
  {
   "cell_type": "code",
   "execution_count": 270,
   "metadata": {},
   "outputs": [
    {
     "data": {
      "text/plain": [
       "82.0"
      ]
     },
     "execution_count": 270,
     "metadata": {},
     "output_type": "execute_result"
    }
   ],
   "source": [
    "df_clean['HR'].median()"
   ]
  },
  {
   "cell_type": "code",
   "execution_count": 271,
   "metadata": {},
   "outputs": [],
   "source": [
    "# Filling HR with mean\n",
    "df_clean['HR'] = df_clean['HR'].fillna(np.mean(df_clean['HR']))"
   ]
  },
  {
   "cell_type": "code",
   "execution_count": 272,
   "metadata": {},
   "outputs": [
    {
     "data": {
      "text/html": [
       "<div>\n",
       "<style scoped>\n",
       "    .dataframe tbody tr th:only-of-type {\n",
       "        vertical-align: middle;\n",
       "    }\n",
       "\n",
       "    .dataframe tbody tr th {\n",
       "        vertical-align: top;\n",
       "    }\n",
       "\n",
       "    .dataframe thead th {\n",
       "        text-align: right;\n",
       "    }\n",
       "</style>\n",
       "<table border=\"1\" class=\"dataframe\">\n",
       "  <thead>\n",
       "    <tr style=\"text-align: right;\">\n",
       "      <th></th>\n",
       "      <th>SBP</th>\n",
       "      <th>DBP</th>\n",
       "    </tr>\n",
       "  </thead>\n",
       "  <tbody>\n",
       "    <tr>\n",
       "      <td>122</td>\n",
       "      <td>50.0</td>\n",
       "      <td>33.0</td>\n",
       "    </tr>\n",
       "    <tr>\n",
       "      <td>123</td>\n",
       "      <td>50.0</td>\n",
       "      <td>33.0</td>\n",
       "    </tr>\n",
       "    <tr>\n",
       "      <td>133</td>\n",
       "      <td>65.0</td>\n",
       "      <td>45.0</td>\n",
       "    </tr>\n",
       "    <tr>\n",
       "      <td>153</td>\n",
       "      <td>70.0</td>\n",
       "      <td>NaN</td>\n",
       "    </tr>\n",
       "    <tr>\n",
       "      <td>968</td>\n",
       "      <td>60.0</td>\n",
       "      <td>NaN</td>\n",
       "    </tr>\n",
       "    <tr>\n",
       "      <td>971</td>\n",
       "      <td>70.0</td>\n",
       "      <td>NaN</td>\n",
       "    </tr>\n",
       "    <tr>\n",
       "      <td>1054</td>\n",
       "      <td>60.0</td>\n",
       "      <td>NaN</td>\n",
       "    </tr>\n",
       "    <tr>\n",
       "      <td>1131</td>\n",
       "      <td>70.0</td>\n",
       "      <td>40.0</td>\n",
       "    </tr>\n",
       "    <tr>\n",
       "      <td>1205</td>\n",
       "      <td>70.0</td>\n",
       "      <td>40.0</td>\n",
       "    </tr>\n",
       "  </tbody>\n",
       "</table>\n",
       "</div>"
      ],
      "text/plain": [
       "       SBP   DBP\n",
       "122   50.0  33.0\n",
       "123   50.0  33.0\n",
       "133   65.0  45.0\n",
       "153   70.0   NaN\n",
       "968   60.0   NaN\n",
       "971   70.0   NaN\n",
       "1054  60.0   NaN\n",
       "1131  70.0  40.0\n",
       "1205  70.0  40.0"
      ]
     },
     "execution_count": 272,
     "metadata": {},
     "output_type": "execute_result"
    }
   ],
   "source": [
    "df_clean.loc[(df_clean['SBP'] <=70), ['SBP', 'DBP']]"
   ]
  },
  {
   "cell_type": "code",
   "execution_count": 273,
   "metadata": {},
   "outputs": [
    {
     "data": {
      "text/plain": [
       "38.2"
      ]
     },
     "execution_count": 273,
     "metadata": {},
     "output_type": "execute_result"
    }
   ],
   "source": [
    "df_clean.loc[(df_clean['SBP'] <= 70), 'DBP'].mean()"
   ]
  },
  {
   "cell_type": "code",
   "execution_count": 274,
   "metadata": {},
   "outputs": [],
   "source": [
    "#Filling DBP where only SBP is present. Median of this group's SBP is considerably lower. Using the median DBP of SBP's less than 70\n",
    "df_clean.loc[(df_clean['DBP'].isnull()) & (df_clean['SBP'].notnull()), 'DBP'] = [38.2 for x in df_clean.loc[(df_clean['DBP'].isnull()) & \\\n",
    "                                                   (df_clean['SBP'].notnull()), 'SBP']]"
   ]
  },
  {
   "cell_type": "code",
   "execution_count": 275,
   "metadata": {},
   "outputs": [
    {
     "data": {
      "text/plain": [
       "80.0"
      ]
     },
     "execution_count": 275,
     "metadata": {},
     "output_type": "execute_result"
    }
   ],
   "source": [
    "df_clean['DBP'].median()"
   ]
  },
  {
   "cell_type": "code",
   "execution_count": 276,
   "metadata": {},
   "outputs": [
    {
     "data": {
      "text/plain": [
       "130.0"
      ]
     },
     "execution_count": 276,
     "metadata": {},
     "output_type": "execute_result"
    }
   ],
   "source": [
    "df_clean['SBP'].median()"
   ]
  },
  {
   "cell_type": "code",
   "execution_count": 277,
   "metadata": {},
   "outputs": [],
   "source": [
    "#Filling the rest of DBP and SBP with median\n",
    "df_clean['DBP'] = df_clean['DBP'].fillna(80)\n",
    "df_clean['SBP'] = df_clean['SBP'].fillna(130)"
   ]
  },
  {
   "cell_type": "code",
   "execution_count": 278,
   "metadata": {},
   "outputs": [
    {
     "data": {
      "text/plain": [
       "array([ 2.,  3.,  4.,  5.,  6.,  8.,  9., nan,  1.,  7., 10.])"
      ]
     },
     "execution_count": 278,
     "metadata": {},
     "output_type": "execute_result"
    }
   ],
   "source": [
    "df_clean['pain_scale'].unique()"
   ]
  },
  {
   "cell_type": "code",
   "execution_count": 279,
   "metadata": {},
   "outputs": [],
   "source": [
    "#Filling pain_scale nan with 0 if no pain present\n",
    "df_clean['pain_scale'] = df_clean['pain_scale'].fillna(0)"
   ]
  },
  {
   "cell_type": "code",
   "execution_count": 280,
   "metadata": {},
   "outputs": [
    {
     "data": {
      "text/html": [
       "<div>\n",
       "<style scoped>\n",
       "    .dataframe tbody tr th:only-of-type {\n",
       "        vertical-align: middle;\n",
       "    }\n",
       "\n",
       "    .dataframe tbody tr th {\n",
       "        vertical-align: top;\n",
       "    }\n",
       "\n",
       "    .dataframe thead th {\n",
       "        text-align: right;\n",
       "    }\n",
       "</style>\n",
       "<table border=\"1\" class=\"dataframe\">\n",
       "  <thead>\n",
       "    <tr style=\"text-align: right;\">\n",
       "      <th></th>\n",
       "      <th>hospital</th>\n",
       "      <th>sex</th>\n",
       "      <th>age</th>\n",
       "      <th>patient_num_hr</th>\n",
       "      <th>injury</th>\n",
       "      <th>mental</th>\n",
       "      <th>pain</th>\n",
       "      <th>pain_scale</th>\n",
       "      <th>SBP</th>\n",
       "      <th>DBP</th>\n",
       "      <th>HR</th>\n",
       "      <th>RR</th>\n",
       "      <th>BT</th>\n",
       "      <th>saturation</th>\n",
       "      <th>KTAS_RN</th>\n",
       "      <th>KTAS_expert</th>\n",
       "      <th>stay_min</th>\n",
       "      <th>KTAS_duration_min</th>\n",
       "      <th>mistriage</th>\n",
       "    </tr>\n",
       "  </thead>\n",
       "  <tbody>\n",
       "    <tr>\n",
       "      <td>count</td>\n",
       "      <td>1267.000000</td>\n",
       "      <td>1267.000000</td>\n",
       "      <td>1267.000000</td>\n",
       "      <td>1267.000000</td>\n",
       "      <td>1267.000000</td>\n",
       "      <td>1267.000000</td>\n",
       "      <td>1267.000000</td>\n",
       "      <td>1267.000000</td>\n",
       "      <td>1267.000000</td>\n",
       "      <td>1267.000000</td>\n",
       "      <td>1267.000000</td>\n",
       "      <td>1267.000000</td>\n",
       "      <td>1267.000000</td>\n",
       "      <td>579.00000</td>\n",
       "      <td>1267.000000</td>\n",
       "      <td>1267.000000</td>\n",
       "      <td>1267.000000</td>\n",
       "      <td>1267.000000</td>\n",
       "      <td>1267.000000</td>\n",
       "    </tr>\n",
       "    <tr>\n",
       "      <td>mean</td>\n",
       "      <td>0.456985</td>\n",
       "      <td>0.521705</td>\n",
       "      <td>54.423836</td>\n",
       "      <td>7.519337</td>\n",
       "      <td>0.192581</td>\n",
       "      <td>1.105762</td>\n",
       "      <td>0.563536</td>\n",
       "      <td>2.303078</td>\n",
       "      <td>133.576953</td>\n",
       "      <td>79.653354</td>\n",
       "      <td>83.963111</td>\n",
       "      <td>19.515391</td>\n",
       "      <td>36.579479</td>\n",
       "      <td>97.02677</td>\n",
       "      <td>3.335438</td>\n",
       "      <td>3.265983</td>\n",
       "      <td>11016.102605</td>\n",
       "      <td>5.497466</td>\n",
       "      <td>0.250197</td>\n",
       "    </tr>\n",
       "    <tr>\n",
       "      <td>std</td>\n",
       "      <td>0.498343</td>\n",
       "      <td>0.499726</td>\n",
       "      <td>19.725033</td>\n",
       "      <td>3.160563</td>\n",
       "      <td>0.394482</td>\n",
       "      <td>0.447768</td>\n",
       "      <td>0.496143</td>\n",
       "      <td>2.298021</td>\n",
       "      <td>27.009758</td>\n",
       "      <td>15.160456</td>\n",
       "      <td>16.512102</td>\n",
       "      <td>2.000089</td>\n",
       "      <td>0.541899</td>\n",
       "      <td>4.31759</td>\n",
       "      <td>0.885391</td>\n",
       "      <td>0.885803</td>\n",
       "      <td>80446.092065</td>\n",
       "      <td>3.459470</td>\n",
       "      <td>0.628250</td>\n",
       "    </tr>\n",
       "    <tr>\n",
       "      <td>min</td>\n",
       "      <td>0.000000</td>\n",
       "      <td>0.000000</td>\n",
       "      <td>16.000000</td>\n",
       "      <td>1.000000</td>\n",
       "      <td>0.000000</td>\n",
       "      <td>1.000000</td>\n",
       "      <td>0.000000</td>\n",
       "      <td>0.000000</td>\n",
       "      <td>50.000000</td>\n",
       "      <td>31.000000</td>\n",
       "      <td>32.000000</td>\n",
       "      <td>14.000000</td>\n",
       "      <td>35.000000</td>\n",
       "      <td>20.00000</td>\n",
       "      <td>1.000000</td>\n",
       "      <td>1.000000</td>\n",
       "      <td>0.000000</td>\n",
       "      <td>1.000000</td>\n",
       "      <td>0.000000</td>\n",
       "    </tr>\n",
       "    <tr>\n",
       "      <td>25%</td>\n",
       "      <td>0.000000</td>\n",
       "      <td>0.000000</td>\n",
       "      <td>37.000000</td>\n",
       "      <td>5.000000</td>\n",
       "      <td>0.000000</td>\n",
       "      <td>1.000000</td>\n",
       "      <td>0.000000</td>\n",
       "      <td>0.000000</td>\n",
       "      <td>115.000000</td>\n",
       "      <td>70.000000</td>\n",
       "      <td>72.000000</td>\n",
       "      <td>18.000000</td>\n",
       "      <td>36.200000</td>\n",
       "      <td>97.00000</td>\n",
       "      <td>3.000000</td>\n",
       "      <td>3.000000</td>\n",
       "      <td>133.000000</td>\n",
       "      <td>3.000000</td>\n",
       "      <td>0.000000</td>\n",
       "    </tr>\n",
       "    <tr>\n",
       "      <td>50%</td>\n",
       "      <td>0.000000</td>\n",
       "      <td>1.000000</td>\n",
       "      <td>57.000000</td>\n",
       "      <td>7.000000</td>\n",
       "      <td>0.000000</td>\n",
       "      <td>1.000000</td>\n",
       "      <td>1.000000</td>\n",
       "      <td>3.000000</td>\n",
       "      <td>130.000000</td>\n",
       "      <td>80.000000</td>\n",
       "      <td>82.000000</td>\n",
       "      <td>20.000000</td>\n",
       "      <td>36.500000</td>\n",
       "      <td>98.00000</td>\n",
       "      <td>3.000000</td>\n",
       "      <td>3.000000</td>\n",
       "      <td>274.000000</td>\n",
       "      <td>4.280000</td>\n",
       "      <td>0.000000</td>\n",
       "    </tr>\n",
       "    <tr>\n",
       "      <td>75%</td>\n",
       "      <td>1.000000</td>\n",
       "      <td>1.000000</td>\n",
       "      <td>71.000000</td>\n",
       "      <td>10.000000</td>\n",
       "      <td>0.000000</td>\n",
       "      <td>1.000000</td>\n",
       "      <td>1.000000</td>\n",
       "      <td>4.000000</td>\n",
       "      <td>150.000000</td>\n",
       "      <td>90.000000</td>\n",
       "      <td>96.000000</td>\n",
       "      <td>20.000000</td>\n",
       "      <td>36.800000</td>\n",
       "      <td>98.00000</td>\n",
       "      <td>4.000000</td>\n",
       "      <td>4.000000</td>\n",
       "      <td>606.500000</td>\n",
       "      <td>7.000000</td>\n",
       "      <td>0.000000</td>\n",
       "    </tr>\n",
       "    <tr>\n",
       "      <td>max</td>\n",
       "      <td>1.000000</td>\n",
       "      <td>1.000000</td>\n",
       "      <td>96.000000</td>\n",
       "      <td>17.000000</td>\n",
       "      <td>1.000000</td>\n",
       "      <td>4.000000</td>\n",
       "      <td>1.000000</td>\n",
       "      <td>10.000000</td>\n",
       "      <td>275.000000</td>\n",
       "      <td>160.000000</td>\n",
       "      <td>148.000000</td>\n",
       "      <td>30.000000</td>\n",
       "      <td>41.000000</td>\n",
       "      <td>100.00000</td>\n",
       "      <td>5.000000</td>\n",
       "      <td>5.000000</td>\n",
       "      <td>709510.000000</td>\n",
       "      <td>17.370000</td>\n",
       "      <td>2.000000</td>\n",
       "    </tr>\n",
       "  </tbody>\n",
       "</table>\n",
       "</div>"
      ],
      "text/plain": [
       "          hospital          sex          age  patient_num_hr       injury  \\\n",
       "count  1267.000000  1267.000000  1267.000000     1267.000000  1267.000000   \n",
       "mean      0.456985     0.521705    54.423836        7.519337     0.192581   \n",
       "std       0.498343     0.499726    19.725033        3.160563     0.394482   \n",
       "min       0.000000     0.000000    16.000000        1.000000     0.000000   \n",
       "25%       0.000000     0.000000    37.000000        5.000000     0.000000   \n",
       "50%       0.000000     1.000000    57.000000        7.000000     0.000000   \n",
       "75%       1.000000     1.000000    71.000000       10.000000     0.000000   \n",
       "max       1.000000     1.000000    96.000000       17.000000     1.000000   \n",
       "\n",
       "            mental         pain   pain_scale          SBP          DBP  \\\n",
       "count  1267.000000  1267.000000  1267.000000  1267.000000  1267.000000   \n",
       "mean      1.105762     0.563536     2.303078   133.576953    79.653354   \n",
       "std       0.447768     0.496143     2.298021    27.009758    15.160456   \n",
       "min       1.000000     0.000000     0.000000    50.000000    31.000000   \n",
       "25%       1.000000     0.000000     0.000000   115.000000    70.000000   \n",
       "50%       1.000000     1.000000     3.000000   130.000000    80.000000   \n",
       "75%       1.000000     1.000000     4.000000   150.000000    90.000000   \n",
       "max       4.000000     1.000000    10.000000   275.000000   160.000000   \n",
       "\n",
       "                HR           RR           BT  saturation      KTAS_RN  \\\n",
       "count  1267.000000  1267.000000  1267.000000   579.00000  1267.000000   \n",
       "mean     83.963111    19.515391    36.579479    97.02677     3.335438   \n",
       "std      16.512102     2.000089     0.541899     4.31759     0.885391   \n",
       "min      32.000000    14.000000    35.000000    20.00000     1.000000   \n",
       "25%      72.000000    18.000000    36.200000    97.00000     3.000000   \n",
       "50%      82.000000    20.000000    36.500000    98.00000     3.000000   \n",
       "75%      96.000000    20.000000    36.800000    98.00000     4.000000   \n",
       "max     148.000000    30.000000    41.000000   100.00000     5.000000   \n",
       "\n",
       "       KTAS_expert       stay_min  KTAS_duration_min    mistriage  \n",
       "count  1267.000000    1267.000000        1267.000000  1267.000000  \n",
       "mean      3.265983   11016.102605           5.497466     0.250197  \n",
       "std       0.885803   80446.092065           3.459470     0.628250  \n",
       "min       1.000000       0.000000           1.000000     0.000000  \n",
       "25%       3.000000     133.000000           3.000000     0.000000  \n",
       "50%       3.000000     274.000000           4.280000     0.000000  \n",
       "75%       4.000000     606.500000           7.000000     0.000000  \n",
       "max       5.000000  709510.000000          17.370000     2.000000  "
      ]
     },
     "execution_count": 280,
     "metadata": {},
     "output_type": "execute_result"
    }
   ],
   "source": [
    "df_clean.describe()"
   ]
  },
  {
   "cell_type": "markdown",
   "metadata": {},
   "source": [
    "## Adding/Formatting Features"
   ]
  },
  {
   "cell_type": "code",
   "execution_count": 283,
   "metadata": {},
   "outputs": [
    {
     "data": {
      "text/plain": [
       "array(['discharge', 'ward', 'transfer', 'op', 'death', 'icu',\n",
       "       'ama_discharge'], dtype=object)"
      ]
     },
     "execution_count": 283,
     "metadata": {},
     "output_type": "execute_result"
    }
   ],
   "source": [
    "df_clean['result'].unique()"
   ]
  },
  {
   "cell_type": "code",
   "execution_count": 284,
   "metadata": {},
   "outputs": [],
   "source": [
    "# Group results column based on whether the patient is admitted to the hospital or not\n",
    "df_clean['admissions'] = df_clean['result'].replace({'discharge':0, 'ward':1, 'transfer':1, 'op':1, 'death':0,\n",
    "                                              'icu':1, 'ama_discharge':0})"
   ]
  },
  {
   "cell_type": "code",
   "execution_count": 285,
   "metadata": {},
   "outputs": [
    {
     "data": {
      "text/plain": [
       "<matplotlib.axes._subplots.AxesSubplot at 0x1a2550c630>"
      ]
     },
     "execution_count": 285,
     "metadata": {},
     "output_type": "execute_result"
    },
    {
     "data": {
      "image/png": "[encoded data removed]",
      "text/plain": [
       "<Figure size 640x480 with 1 Axes>"
      ]
     },
     "metadata": {},
     "output_type": "display_data"
    }
   ],
   "source": [
    "sns.countplot(df_clean['admissions'])"
   ]
  },
  {
   "cell_type": "code",
   "execution_count": 286,
   "metadata": {},
   "outputs": [],
   "source": [
    "with open('data/df_clean_few_nulls.pickle', 'wb') as to_write:\n",
    "    pickle.dump(df_clean, to_write)"
   ]
  },
  {
   "cell_type": "code",
   "execution_count": 2,
   "metadata": {},
   "outputs": [],
   "source": [
    "import pickle"
   ]
  },
  {
   "cell_type": "code",
   "execution_count": 3,
   "metadata": {},
   "outputs": [],
   "source": [
    "with open('data/df_clean_few_nulls.pickle', 'rb') as read_file:\n",
    "    df_clean = pickle.load(read_file)"
   ]
  },
  {
   "cell_type": "code",
   "execution_count": 8,
   "metadata": {},
   "outputs": [],
   "source": [
    "df_clean.to_csv('data/clean.csv')"
   ]
  },
  {
   "cell_type": "code",
   "execution_count": 4,
   "metadata": {},
   "outputs": [
    {
     "data": {
      "text/html": [
       "<div>\n",
       "<style scoped>\n",
       "    .dataframe tbody tr th:only-of-type {\n",
       "        vertical-align: middle;\n",
       "    }\n",
       "\n",
       "    .dataframe tbody tr th {\n",
       "        vertical-align: top;\n",
       "    }\n",
       "\n",
       "    .dataframe thead th {\n",
       "        text-align: right;\n",
       "    }\n",
       "</style>\n",
       "<table border=\"1\" class=\"dataframe\">\n",
       "  <thead>\n",
       "    <tr style=\"text-align: right;\">\n",
       "      <th></th>\n",
       "      <th>hospital</th>\n",
       "      <th>sex</th>\n",
       "      <th>age</th>\n",
       "      <th>patient_num_hr</th>\n",
       "      <th>arrival_mode</th>\n",
       "      <th>injury</th>\n",
       "      <th>complaint</th>\n",
       "      <th>mental</th>\n",
       "      <th>pain</th>\n",
       "      <th>pain_scale</th>\n",
       "      <th>...</th>\n",
       "      <th>saturation</th>\n",
       "      <th>KTAS_RN</th>\n",
       "      <th>diagnosis</th>\n",
       "      <th>result</th>\n",
       "      <th>KTAS_expert</th>\n",
       "      <th>error_code</th>\n",
       "      <th>stay_min</th>\n",
       "      <th>KTAS_duration_min</th>\n",
       "      <th>mistriage</th>\n",
       "      <th>admissions</th>\n",
       "    </tr>\n",
       "  </thead>\n",
       "  <tbody>\n",
       "    <tr>\n",
       "      <td>0</td>\n",
       "      <td>1</td>\n",
       "      <td>1</td>\n",
       "      <td>71</td>\n",
       "      <td>3</td>\n",
       "      <td>car</td>\n",
       "      <td>1</td>\n",
       "      <td>right ocular pain</td>\n",
       "      <td>1</td>\n",
       "      <td>1</td>\n",
       "      <td>2.0</td>\n",
       "      <td>...</td>\n",
       "      <td>100.0</td>\n",
       "      <td>2</td>\n",
       "      <td>Corneal abrasion</td>\n",
       "      <td>discharge</td>\n",
       "      <td>4</td>\n",
       "      <td>physical_exam</td>\n",
       "      <td>86</td>\n",
       "      <td>5.00</td>\n",
       "      <td>1</td>\n",
       "      <td>0</td>\n",
       "    </tr>\n",
       "    <tr>\n",
       "      <td>1</td>\n",
       "      <td>0</td>\n",
       "      <td>0</td>\n",
       "      <td>56</td>\n",
       "      <td>12</td>\n",
       "      <td>car</td>\n",
       "      <td>1</td>\n",
       "      <td>right forearm burn</td>\n",
       "      <td>1</td>\n",
       "      <td>1</td>\n",
       "      <td>2.0</td>\n",
       "      <td>...</td>\n",
       "      <td>NaN</td>\n",
       "      <td>4</td>\n",
       "      <td>Burn of hand, firts degree dorsum</td>\n",
       "      <td>discharge</td>\n",
       "      <td>5</td>\n",
       "      <td>pain</td>\n",
       "      <td>64</td>\n",
       "      <td>3.95</td>\n",
       "      <td>1</td>\n",
       "      <td>0</td>\n",
       "    </tr>\n",
       "    <tr>\n",
       "      <td>2</td>\n",
       "      <td>1</td>\n",
       "      <td>0</td>\n",
       "      <td>68</td>\n",
       "      <td>8</td>\n",
       "      <td>ambulance</td>\n",
       "      <td>1</td>\n",
       "      <td>arm pain, Lt</td>\n",
       "      <td>1</td>\n",
       "      <td>1</td>\n",
       "      <td>2.0</td>\n",
       "      <td>...</td>\n",
       "      <td>98.0</td>\n",
       "      <td>4</td>\n",
       "      <td>Fracture of surgical neck of humerus, closed</td>\n",
       "      <td>ward</td>\n",
       "      <td>5</td>\n",
       "      <td>pain</td>\n",
       "      <td>862</td>\n",
       "      <td>1.00</td>\n",
       "      <td>1</td>\n",
       "      <td>1</td>\n",
       "    </tr>\n",
       "    <tr>\n",
       "      <td>3</td>\n",
       "      <td>0</td>\n",
       "      <td>1</td>\n",
       "      <td>71</td>\n",
       "      <td>8</td>\n",
       "      <td>walking</td>\n",
       "      <td>0</td>\n",
       "      <td>ascites tapping</td>\n",
       "      <td>1</td>\n",
       "      <td>1</td>\n",
       "      <td>3.0</td>\n",
       "      <td>...</td>\n",
       "      <td>NaN</td>\n",
       "      <td>4</td>\n",
       "      <td>Alcoholic liver cirrhosis with ascites</td>\n",
       "      <td>discharge</td>\n",
       "      <td>5</td>\n",
       "      <td>underlying</td>\n",
       "      <td>108</td>\n",
       "      <td>9.83</td>\n",
       "      <td>1</td>\n",
       "      <td>0</td>\n",
       "    </tr>\n",
       "    <tr>\n",
       "      <td>4</td>\n",
       "      <td>0</td>\n",
       "      <td>1</td>\n",
       "      <td>58</td>\n",
       "      <td>4</td>\n",
       "      <td>car</td>\n",
       "      <td>0</td>\n",
       "      <td>distension, abd</td>\n",
       "      <td>1</td>\n",
       "      <td>1</td>\n",
       "      <td>3.0</td>\n",
       "      <td>...</td>\n",
       "      <td>NaN</td>\n",
       "      <td>4</td>\n",
       "      <td>Ascites</td>\n",
       "      <td>discharge</td>\n",
       "      <td>5</td>\n",
       "      <td>on_set</td>\n",
       "      <td>109</td>\n",
       "      <td>6.60</td>\n",
       "      <td>1</td>\n",
       "      <td>0</td>\n",
       "    </tr>\n",
       "  </tbody>\n",
       "</table>\n",
       "<p>5 rows × 25 columns</p>\n",
       "</div>"
      ],
      "text/plain": [
       "   hospital  sex  age  patient_num_hr arrival_mode  injury  \\\n",
       "0         1    1   71               3          car       1   \n",
       "1         0    0   56              12          car       1   \n",
       "2         1    0   68               8    ambulance       1   \n",
       "3         0    1   71               8      walking       0   \n",
       "4         0    1   58               4          car       0   \n",
       "\n",
       "            complaint  mental  pain  pain_scale  ...  saturation  KTAS_RN  \\\n",
       "0   right ocular pain       1     1         2.0  ...       100.0        2   \n",
       "1  right forearm burn       1     1         2.0  ...         NaN        4   \n",
       "2        arm pain, Lt       1     1         2.0  ...        98.0        4   \n",
       "3     ascites tapping       1     1         3.0  ...         NaN        4   \n",
       "4     distension, abd       1     1         3.0  ...         NaN        4   \n",
       "\n",
       "                                      diagnosis     result  KTAS_expert  \\\n",
       "0                              Corneal abrasion  discharge            4   \n",
       "1             Burn of hand, firts degree dorsum  discharge            5   \n",
       "2  Fracture of surgical neck of humerus, closed       ward            5   \n",
       "3        Alcoholic liver cirrhosis with ascites  discharge            5   \n",
       "4                                       Ascites  discharge            5   \n",
       "\n",
       "      error_code  stay_min KTAS_duration_min mistriage  admissions  \n",
       "0  physical_exam        86              5.00         1           0  \n",
       "1           pain        64              3.95         1           0  \n",
       "2           pain       862              1.00         1           1  \n",
       "3     underlying       108              9.83         1           0  \n",
       "4         on_set       109              6.60         1           0  \n",
       "\n",
       "[5 rows x 25 columns]"
      ]
     },
     "execution_count": 4,
     "metadata": {},
     "output_type": "execute_result"
    }
   ],
   "source": [
    "df_clean.head()"
   ]
  },
  {
   "cell_type": "code",
   "execution_count": null,
   "metadata": {},
   "outputs": [],
   "source": []
  }
 ],
 "metadata": {
  "kernelspec": {
   "display_name": "Python 3",
   "language": "python",
   "name": "python3"
  },
  "language_info": {
   "codemirror_mode": {
    "name": "ipython",
    "version": 3
   },
   "file_extension": ".py",
   "mimetype": "text/x-python",
   "name": "python",
   "nbconvert_exporter": "python",
   "pygments_lexer": "ipython3",
   "version": "3.7.4"
  }
 },
 "nbformat": 4,
 "nbformat_minor": 4
}
